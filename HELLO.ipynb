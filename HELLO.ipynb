{
  "nbformat": 4,
  "nbformat_minor": 0,
  "metadata": {
    "colab": {
      "provenance": []
    },
    "kernelspec": {
      "name": "python3",
      "display_name": "Python 3"
    },
    "language_info": {
      "name": "python"
    }
  },
  "cells": [
    {
      "cell_type": "markdown",
      "source": [
        "# Section 1"
      ],
      "metadata": {
        "id": "vJKlbQgndiSf"
      }
    },
    {
      "cell_type": "code",
      "execution_count": 1,
      "metadata": {
        "colab": {
          "base_uri": "https://localhost:8080/"
        },
        "id": "uobvRT54b1dK",
        "outputId": "5584385d-506e-45c7-eb23-61e11bd8bbaa"
      },
      "outputs": [
        {
          "output_type": "stream",
          "name": "stdout",
          "text": [
            "Collecting qiskit\n",
            "  Downloading qiskit-2.0.0-cp39-abi3-manylinux_2_17_x86_64.manylinux2014_x86_64.whl.metadata (12 kB)\n",
            "Collecting rustworkx>=0.15.0 (from qiskit)\n",
            "  Downloading rustworkx-0.16.0-cp39-abi3-manylinux_2_17_x86_64.manylinux2014_x86_64.whl.metadata (10 kB)\n",
            "Requirement already satisfied: numpy<3,>=1.17 in /usr/local/lib/python3.11/dist-packages (from qiskit) (2.0.2)\n",
            "Requirement already satisfied: scipy>=1.5 in /usr/local/lib/python3.11/dist-packages (from qiskit) (1.15.2)\n",
            "Requirement already satisfied: sympy>=1.3 in /usr/local/lib/python3.11/dist-packages (from qiskit) (1.13.1)\n",
            "Collecting dill>=0.3 (from qiskit)\n",
            "  Downloading dill-0.4.0-py3-none-any.whl.metadata (10 kB)\n",
            "Requirement already satisfied: python-dateutil>=2.8.0 in /usr/local/lib/python3.11/dist-packages (from qiskit) (2.9.0.post0)\n",
            "Collecting stevedore>=3.0.0 (from qiskit)\n",
            "  Downloading stevedore-5.4.1-py3-none-any.whl.metadata (2.3 kB)\n",
            "Requirement already satisfied: typing-extensions in /usr/local/lib/python3.11/dist-packages (from qiskit) (4.13.2)\n",
            "Collecting symengine<0.14,>=0.11 (from qiskit)\n",
            "  Downloading symengine-0.13.0-cp311-cp311-manylinux_2_17_x86_64.manylinux2014_x86_64.whl.metadata (1.2 kB)\n",
            "Requirement already satisfied: six>=1.5 in /usr/local/lib/python3.11/dist-packages (from python-dateutil>=2.8.0->qiskit) (1.17.0)\n",
            "Collecting pbr>=2.0.0 (from stevedore>=3.0.0->qiskit)\n",
            "  Downloading pbr-6.1.1-py2.py3-none-any.whl.metadata (3.4 kB)\n",
            "Requirement already satisfied: mpmath<1.4,>=1.1.0 in /usr/local/lib/python3.11/dist-packages (from sympy>=1.3->qiskit) (1.3.0)\n",
            "Requirement already satisfied: setuptools in /usr/local/lib/python3.11/dist-packages (from pbr>=2.0.0->stevedore>=3.0.0->qiskit) (75.2.0)\n",
            "Downloading qiskit-2.0.0-cp39-abi3-manylinux_2_17_x86_64.manylinux2014_x86_64.whl (6.5 MB)\n",
            "\u001b[2K   \u001b[90m━━━━━━━━━━━━━━━━━━━━━━━━━━━━━━━━━━━━━━━━\u001b[0m \u001b[32m6.5/6.5 MB\u001b[0m \u001b[31m59.7 MB/s\u001b[0m eta \u001b[36m0:00:00\u001b[0m\n",
            "\u001b[?25hDownloading dill-0.4.0-py3-none-any.whl (119 kB)\n",
            "\u001b[2K   \u001b[90m━━━━━━━━━━━━━━━━━━━━━━━━━━━━━━━━━━━━━━━━\u001b[0m \u001b[32m119.7/119.7 kB\u001b[0m \u001b[31m7.2 MB/s\u001b[0m eta \u001b[36m0:00:00\u001b[0m\n",
            "\u001b[?25hDownloading rustworkx-0.16.0-cp39-abi3-manylinux_2_17_x86_64.manylinux2014_x86_64.whl (2.1 MB)\n",
            "\u001b[2K   \u001b[90m━━━━━━━━━━━━━━━━━━━━━━━━━━━━━━━━━━━━━━━━\u001b[0m \u001b[32m2.1/2.1 MB\u001b[0m \u001b[31m56.2 MB/s\u001b[0m eta \u001b[36m0:00:00\u001b[0m\n",
            "\u001b[?25hDownloading stevedore-5.4.1-py3-none-any.whl (49 kB)\n",
            "\u001b[2K   \u001b[90m━━━━━━━━━━━━━━━━━━━━━━━━━━━━━━━━━━━━━━━━\u001b[0m \u001b[32m49.5/49.5 kB\u001b[0m \u001b[31m2.9 MB/s\u001b[0m eta \u001b[36m0:00:00\u001b[0m\n",
            "\u001b[?25hDownloading symengine-0.13.0-cp311-cp311-manylinux_2_17_x86_64.manylinux2014_x86_64.whl (49.7 MB)\n",
            "\u001b[2K   \u001b[90m━━━━━━━━━━━━━━━━━━━━━━━━━━━━━━━━━━━━━━━━\u001b[0m \u001b[32m49.7/49.7 MB\u001b[0m \u001b[31m13.4 MB/s\u001b[0m eta \u001b[36m0:00:00\u001b[0m\n",
            "\u001b[?25hDownloading pbr-6.1.1-py2.py3-none-any.whl (108 kB)\n",
            "\u001b[2K   \u001b[90m━━━━━━━━━━━━━━━━━━━━━━━━━━━━━━━━━━━━━━━━\u001b[0m \u001b[32m109.0/109.0 kB\u001b[0m \u001b[31m5.5 MB/s\u001b[0m eta \u001b[36m0:00:00\u001b[0m\n",
            "\u001b[?25hInstalling collected packages: symengine, rustworkx, pbr, dill, stevedore, qiskit\n",
            "Successfully installed dill-0.4.0 pbr-6.1.1 qiskit-2.0.0 rustworkx-0.16.0 stevedore-5.4.1 symengine-0.13.0\n"
          ]
        }
      ],
      "source": [
        "!pip install qiskit"
      ]
    },
    {
      "cell_type": "code",
      "source": [
        "!pip install qiskit-aer"
      ],
      "metadata": {
        "colab": {
          "base_uri": "https://localhost:8080/"
        },
        "id": "q9MncHiTb8ex",
        "outputId": "c4b2df81-2765-4a4f-be8a-96f7fc5a8e08"
      },
      "execution_count": 2,
      "outputs": [
        {
          "output_type": "stream",
          "name": "stdout",
          "text": [
            "Collecting qiskit-aer\n",
            "  Downloading qiskit_aer-0.17.0-cp311-cp311-manylinux_2_17_x86_64.manylinux2014_x86_64.whl.metadata (8.2 kB)\n",
            "Requirement already satisfied: qiskit>=1.1.0 in /usr/local/lib/python3.11/dist-packages (from qiskit-aer) (2.0.0)\n",
            "Requirement already satisfied: numpy>=1.16.3 in /usr/local/lib/python3.11/dist-packages (from qiskit-aer) (2.0.2)\n",
            "Requirement already satisfied: scipy>=1.0 in /usr/local/lib/python3.11/dist-packages (from qiskit-aer) (1.15.2)\n",
            "Requirement already satisfied: psutil>=5 in /usr/local/lib/python3.11/dist-packages (from qiskit-aer) (5.9.5)\n",
            "Requirement already satisfied: rustworkx>=0.15.0 in /usr/local/lib/python3.11/dist-packages (from qiskit>=1.1.0->qiskit-aer) (0.16.0)\n",
            "Requirement already satisfied: sympy>=1.3 in /usr/local/lib/python3.11/dist-packages (from qiskit>=1.1.0->qiskit-aer) (1.13.1)\n",
            "Requirement already satisfied: dill>=0.3 in /usr/local/lib/python3.11/dist-packages (from qiskit>=1.1.0->qiskit-aer) (0.4.0)\n",
            "Requirement already satisfied: python-dateutil>=2.8.0 in /usr/local/lib/python3.11/dist-packages (from qiskit>=1.1.0->qiskit-aer) (2.9.0.post0)\n",
            "Requirement already satisfied: stevedore>=3.0.0 in /usr/local/lib/python3.11/dist-packages (from qiskit>=1.1.0->qiskit-aer) (5.4.1)\n",
            "Requirement already satisfied: typing-extensions in /usr/local/lib/python3.11/dist-packages (from qiskit>=1.1.0->qiskit-aer) (4.13.2)\n",
            "Requirement already satisfied: symengine<0.14,>=0.11 in /usr/local/lib/python3.11/dist-packages (from qiskit>=1.1.0->qiskit-aer) (0.13.0)\n",
            "Requirement already satisfied: six>=1.5 in /usr/local/lib/python3.11/dist-packages (from python-dateutil>=2.8.0->qiskit>=1.1.0->qiskit-aer) (1.17.0)\n",
            "Requirement already satisfied: pbr>=2.0.0 in /usr/local/lib/python3.11/dist-packages (from stevedore>=3.0.0->qiskit>=1.1.0->qiskit-aer) (6.1.1)\n",
            "Requirement already satisfied: mpmath<1.4,>=1.1.0 in /usr/local/lib/python3.11/dist-packages (from sympy>=1.3->qiskit>=1.1.0->qiskit-aer) (1.3.0)\n",
            "Requirement already satisfied: setuptools in /usr/local/lib/python3.11/dist-packages (from pbr>=2.0.0->stevedore>=3.0.0->qiskit>=1.1.0->qiskit-aer) (75.2.0)\n",
            "Downloading qiskit_aer-0.17.0-cp311-cp311-manylinux_2_17_x86_64.manylinux2014_x86_64.whl (12.4 MB)\n",
            "\u001b[2K   \u001b[90m━━━━━━━━━━━━━━━━━━━━━━━━━━━━━━━━━━━━━━━━\u001b[0m \u001b[32m12.4/12.4 MB\u001b[0m \u001b[31m81.7 MB/s\u001b[0m eta \u001b[36m0:00:00\u001b[0m\n",
            "\u001b[?25hInstalling collected packages: qiskit-aer\n",
            "Successfully installed qiskit-aer-0.17.0\n"
          ]
        }
      ]
    },
    {
      "cell_type": "code",
      "source": [
        "# pylint: disable=invalid-name\n",
        "import matplotlib.pyplot as plt\n",
        "import numpy as np\n",
        "from qiskit import QuantumCircuit, transpile\n",
        "from qiskit_aer import Aer\n",
        "from qiskit.visualization import plot_histogram\n",
        "from math import gcd\n",
        "from numpy.random import randint\n",
        "import pandas as pd\n",
        "from fractions import Fraction\n",
        "print(\"Imports Successful\")"
      ],
      "metadata": {
        "colab": {
          "base_uri": "https://localhost:8080/"
        },
        "id": "6mg0KkB8cGCg",
        "outputId": "ba31a1a9-2910-43a0-f7bd-b1b8fd60ea29"
      },
      "execution_count": 3,
      "outputs": [
        {
          "output_type": "stream",
          "name": "stdout",
          "text": [
            "Imports Successful\n"
          ]
        }
      ]
    },
    {
      "cell_type": "code",
      "source": [
        "N = 35\n",
        "a = 3\n",
        "\n",
        "# Calculate the plotting data\n",
        "xvals = np.arange(35)\n",
        "yvals = [np.mod(a**x, N) for x in xvals]\n",
        "\n",
        "# Use matplotlib to display it nicely\n",
        "fig, ax = plt.subplots()\n",
        "ax.plot(xvals, yvals, linewidth=1, linestyle='dotted', marker='x')\n",
        "ax.set(xlabel='$x$', ylabel=f'${a}^x$ mod ${N}$',\n",
        "       title=\"Example of Periodic Function in Shor's Algorithm\")\n",
        "try: # plot r on the graph\n",
        "    r = yvals[1:].index(1) + 1\n",
        "    plt.annotate('', xy=(0,1), xytext=(r,1),\n",
        "                 arrowprops=dict(arrowstyle='<->'))\n",
        "    plt.annotate(f'$r={r}$', xy=(r/3,1.5))\n",
        "except ValueError:\n",
        "    print('Could not find period, check a < N and have no common factors.')"
      ],
      "metadata": {
        "colab": {
          "base_uri": "https://localhost:8080/",
          "height": 472
        },
        "id": "KNDN5Wm1cLvY",
        "outputId": "41d46a92-171d-4812-f74b-55a6ddec8bf3"
      },
      "execution_count": 4,
      "outputs": [
        {
          "output_type": "display_data",
          "data": {
            "text/plain": [
              "<Figure size 640x480 with 1 Axes>"
            ],
            "image/png": "[encoded data removed]"
          },
          "metadata": {}
        }
      ]
    },
    {
      "cell_type": "code",
      "source": [
        "ax.set(xlabel='Number of applications of U',\n",
        "       ylabel='End state of register',\n",
        "       title=\"Effect of Successive Applications of U\")\n",
        "fig"
      ],
      "metadata": {
        "colab": {
          "base_uri": "https://localhost:8080/",
          "height": 472
        },
        "id": "nEH3LLSkcMYQ",
        "outputId": "8a492bde-82ea-430f-c5ba-3489079431e1"
      },
      "execution_count": 5,
      "outputs": [
        {
          "output_type": "execute_result",
          "data": {
            "text/plain": [
              "<Figure size 640x480 with 1 Axes>"
            ],
            "image/png": "[encoded data removed]"
          },
          "metadata": {},
          "execution_count": 5
        }
      ]
    },
    {
      "cell_type": "code",
      "source": [
        "def c_amod15(a, power):\n",
        "    \"\"\"Controlled multiplication by a mod 15\"\"\"\n",
        "    if a not in [2,4,7,8,11,13]:\n",
        "        raise ValueError(\"'a' must be 2,4,7,8,11 or 13\")\n",
        "    U = QuantumCircuit(4)\n",
        "    for _iteration in range(power):\n",
        "        if a in [2,13]:\n",
        "            U.swap(2,3)\n",
        "            U.swap(1,2)\n",
        "            U.swap(0,1)\n",
        "        if a in [7,8]:\n",
        "            U.swap(0,1)\n",
        "            U.swap(1,2)\n",
        "            U.swap(2,3)\n",
        "        if a in [4, 11]:\n",
        "            U.swap(1,3)\n",
        "            U.swap(0,2)\n",
        "        if a in [7,11,13]:\n",
        "            for q in range(4):\n",
        "                U.x(q)\n",
        "    U = U.to_gate()\n",
        "    U.name = f\"{a}^{power} mod 15\"\n",
        "    c_U = U.control()\n",
        "    return c_U"
      ],
      "metadata": {
        "id": "4oDoyM3rcQJC"
      },
      "execution_count": null,
      "outputs": []
    },
    {
      "cell_type": "code",
      "source": [
        "# Specify variables\n",
        "N_COUNT = 8  # number of counting qubits\n",
        "a = 7"
      ],
      "metadata": {
        "id": "dbYfocUtcQIY"
      },
      "execution_count": null,
      "outputs": []
    },
    {
      "cell_type": "code",
      "source": [
        "def qft_dagger(n):\n",
        "    \"\"\"n-qubit QFTdagger the first n qubits in circ\"\"\"\n",
        "    qc = QuantumCircuit(n)\n",
        "    # Don't forget the Swaps!\n",
        "    for qubit in range(n//2):\n",
        "        qc.swap(qubit, n-qubit-1)\n",
        "    for j in range(n):\n",
        "        for m in range(j):\n",
        "            qc.cp(-np.pi/float(2**(j-m)), m, j)\n",
        "        qc.h(j)\n",
        "    qc.name = \"QFT†\"\n",
        "    return qc"
      ],
      "metadata": {
        "id": "SVEtBWzucUJf"
      },
      "execution_count": null,
      "outputs": []
    },
    {
      "cell_type": "code",
      "source": [
        "# Create QuantumCircuit with N_COUNT counting qubits\n",
        "# plus 4 qubits for U to act on\n",
        "qc = QuantumCircuit(N_COUNT + 4, N_COUNT)\n",
        "\n",
        "# Initialize counting qubits\n",
        "# in state |+>\n",
        "for q in range(N_COUNT):\n",
        "    qc.h(q)\n",
        "\n",
        "# And auxiliary register in state |1>\n",
        "qc.x(N_COUNT)\n",
        "\n",
        "# Do controlled-U operations\n",
        "for q in range(N_COUNT):\n",
        "    qc.append(c_amod15(a, 2**q),\n",
        "             [q] + [i+N_COUNT for i in range(4)])\n",
        "\n",
        "# Do inverse-QFT\n",
        "qc.append(qft_dagger(N_COUNT), range(N_COUNT))\n",
        "\n",
        "# Measure circuit\n",
        "qc.measure(range(N_COUNT), range(N_COUNT))\n",
        "qc.draw(fold=-1)  # -1 means 'do not fold'"
      ],
      "metadata": {
        "colab": {
          "base_uri": "https://localhost:8080/",
          "height": 433
        },
        "id": "2jCrDnM6cV_o",
        "outputId": "e6ad5fe1-4939-4347-f9a4-923e8e8e8219"
      },
      "execution_count": null,
      "outputs": [
        {
          "output_type": "execute_result",
          "data": {
            "text/plain": [
              "      ┌───┐                                                                                                                             ┌───────┐┌─┐                     \n",
              " q_0: ┤ H ├───────■─────────────────────────────────────────────────────────────────────────────────────────────────────────────────────┤0      ├┤M├─────────────────────\n",
              "      ├───┤       │                                                                                                                     │       │└╥┘┌─┐                  \n",
              " q_1: ┤ H ├───────┼──────────────■──────────────────────────────────────────────────────────────────────────────────────────────────────┤1      ├─╫─┤M├──────────────────\n",
              "      ├───┤       │              │                                                                                                      │       │ ║ └╥┘┌─┐               \n",
              " q_2: ┤ H ├───────┼──────────────┼──────────────■───────────────────────────────────────────────────────────────────────────────────────┤2      ├─╫──╫─┤M├───────────────\n",
              "      ├───┤       │              │              │                                                                                       │       │ ║  ║ └╥┘┌─┐            \n",
              " q_3: ┤ H ├───────┼──────────────┼──────────────┼──────────────■────────────────────────────────────────────────────────────────────────┤3      ├─╫──╫──╫─┤M├────────────\n",
              "      ├───┤       │              │              │              │                                                                        │  QFT† │ ║  ║  ║ └╥┘┌─┐         \n",
              " q_4: ┤ H ├───────┼──────────────┼──────────────┼──────────────┼──────────────■─────────────────────────────────────────────────────────┤4      ├─╫──╫──╫──╫─┤M├─────────\n",
              "      ├───┤       │              │              │              │              │                                                         │       │ ║  ║  ║  ║ └╥┘┌─┐      \n",
              " q_5: ┤ H ├───────┼──────────────┼──────────────┼──────────────┼──────────────┼───────────────■─────────────────────────────────────────┤5      ├─╫──╫──╫──╫──╫─┤M├──────\n",
              "      ├───┤       │              │              │              │              │               │                                         │       │ ║  ║  ║  ║  ║ └╥┘┌─┐   \n",
              " q_6: ┤ H ├───────┼──────────────┼──────────────┼──────────────┼──────────────┼───────────────┼───────────────■─────────────────────────┤6      ├─╫──╫──╫──╫──╫──╫─┤M├───\n",
              "      ├───┤       │              │              │              │              │               │               │                         │       │ ║  ║  ║  ║  ║  ║ └╥┘┌─┐\n",
              " q_7: ┤ H ├───────┼──────────────┼──────────────┼──────────────┼──────────────┼───────────────┼───────────────┼────────────────■────────┤7      ├─╫──╫──╫──╫──╫──╫──╫─┤M├\n",
              "      ├───┤┌──────┴──────┐┌──────┴──────┐┌──────┴──────┐┌──────┴──────┐┌──────┴───────┐┌──────┴───────┐┌──────┴───────┐┌───────┴───────┐└───────┘ ║  ║  ║  ║  ║  ║  ║ └╥┘\n",
              " q_8: ┤ X ├┤0            ├┤0            ├┤0            ├┤0            ├┤0             ├┤0             ├┤0             ├┤0              ├──────────╫──╫──╫──╫──╫──╫──╫──╫─\n",
              "      └───┘│             ││             ││             ││             ││              ││              ││              ││               │          ║  ║  ║  ║  ║  ║  ║  ║ \n",
              " q_9: ─────┤1            ├┤1            ├┤1            ├┤1            ├┤1             ├┤1             ├┤1             ├┤1              ├──────────╫──╫──╫──╫──╫──╫──╫──╫─\n",
              "           │  7^1 mod 15 ││  7^2 mod 15 ││  7^4 mod 15 ││  7^8 mod 15 ││  7^16 mod 15 ││  7^32 mod 15 ││  7^64 mod 15 ││  7^128 mod 15 │          ║  ║  ║  ║  ║  ║  ║  ║ \n",
              "q_10: ─────┤2            ├┤2            ├┤2            ├┤2            ├┤2             ├┤2             ├┤2             ├┤2              ├──────────╫──╫──╫──╫──╫──╫──╫──╫─\n",
              "           │             ││             ││             ││             ││              ││              ││              ││               │          ║  ║  ║  ║  ║  ║  ║  ║ \n",
              "q_11: ─────┤3            ├┤3            ├┤3            ├┤3            ├┤3             ├┤3             ├┤3             ├┤3              ├──────────╫──╫──╫──╫──╫──╫──╫──╫─\n",
              "           └─────────────┘└─────────────┘└─────────────┘└─────────────┘└──────────────┘└──────────────┘└──────────────┘└───────────────┘          ║  ║  ║  ║  ║  ║  ║  ║ \n",
              " c: 8/════════════════════════════════════════════════════════════════════════════════════════════════════════════════════════════════════════════╩══╩══╩══╩══╩══╩══╩══╩═\n",
              "                                                                                                                                                  0  1  2  3  4  5  6  7 "
            ],
            "text/html": [
              "<pre style=\"word-wrap: normal;white-space: pre;background: #fff0;line-height: 1.1;font-family: &quot;Courier New&quot;,Courier,monospace\">      ┌───┐                                                                                                                             ┌───────┐┌─┐                     \n",
              " q_0: ┤ H ├───────■─────────────────────────────────────────────────────────────────────────────────────────────────────────────────────┤0      ├┤M├─────────────────────\n",
              "      ├───┤       │                                                                                                                     │       │└╥┘┌─┐                  \n",
              " q_1: ┤ H ├───────┼──────────────■──────────────────────────────────────────────────────────────────────────────────────────────────────┤1      ├─╫─┤M├──────────────────\n",
              "      ├───┤       │              │                                                                                                      │       │ ║ └╥┘┌─┐               \n",
              " q_2: ┤ H ├───────┼──────────────┼──────────────■───────────────────────────────────────────────────────────────────────────────────────┤2      ├─╫──╫─┤M├───────────────\n",
              "      ├───┤       │              │              │                                                                                       │       │ ║  ║ └╥┘┌─┐            \n",
              " q_3: ┤ H ├───────┼──────────────┼──────────────┼──────────────■────────────────────────────────────────────────────────────────────────┤3      ├─╫──╫──╫─┤M├────────────\n",
              "      ├───┤       │              │              │              │                                                                        │  QFT† │ ║  ║  ║ └╥┘┌─┐         \n",
              " q_4: ┤ H ├───────┼──────────────┼──────────────┼──────────────┼──────────────■─────────────────────────────────────────────────────────┤4      ├─╫──╫──╫──╫─┤M├─────────\n",
              "      ├───┤       │              │              │              │              │                                                         │       │ ║  ║  ║  ║ └╥┘┌─┐      \n",
              " q_5: ┤ H ├───────┼──────────────┼──────────────┼──────────────┼──────────────┼───────────────■─────────────────────────────────────────┤5      ├─╫──╫──╫──╫──╫─┤M├──────\n",
              "      ├───┤       │              │              │              │              │               │                                         │       │ ║  ║  ║  ║  ║ └╥┘┌─┐   \n",
              " q_6: ┤ H ├───────┼──────────────┼──────────────┼──────────────┼──────────────┼───────────────┼───────────────■─────────────────────────┤6      ├─╫──╫──╫──╫──╫──╫─┤M├───\n",
              "      ├───┤       │              │              │              │              │               │               │                         │       │ ║  ║  ║  ║  ║  ║ └╥┘┌─┐\n",
              " q_7: ┤ H ├───────┼──────────────┼──────────────┼──────────────┼──────────────┼───────────────┼───────────────┼────────────────■────────┤7      ├─╫──╫──╫──╫──╫──╫──╫─┤M├\n",
              "      ├───┤┌──────┴──────┐┌──────┴──────┐┌──────┴──────┐┌──────┴──────┐┌──────┴───────┐┌──────┴───────┐┌──────┴───────┐┌───────┴───────┐└───────┘ ║  ║  ║  ║  ║  ║  ║ └╥┘\n",
              " q_8: ┤ X ├┤0            ├┤0            ├┤0            ├┤0            ├┤0             ├┤0             ├┤0             ├┤0              ├──────────╫──╫──╫──╫──╫──╫──╫──╫─\n",
              "      └───┘│             ││             ││             ││             ││              ││              ││              ││               │          ║  ║  ║  ║  ║  ║  ║  ║ \n",
              " q_9: ─────┤1            ├┤1            ├┤1            ├┤1            ├┤1             ├┤1             ├┤1             ├┤1              ├──────────╫──╫──╫──╫──╫──╫──╫──╫─\n",
              "           │  7^1 mod 15 ││  7^2 mod 15 ││  7^4 mod 15 ││  7^8 mod 15 ││  7^16 mod 15 ││  7^32 mod 15 ││  7^64 mod 15 ││  7^128 mod 15 │          ║  ║  ║  ║  ║  ║  ║  ║ \n",
              "q_10: ─────┤2            ├┤2            ├┤2            ├┤2            ├┤2             ├┤2             ├┤2             ├┤2              ├──────────╫──╫──╫──╫──╫──╫──╫──╫─\n",
              "           │             ││             ││             ││             ││              ││              ││              ││               │          ║  ║  ║  ║  ║  ║  ║  ║ \n",
              "q_11: ─────┤3            ├┤3            ├┤3            ├┤3            ├┤3             ├┤3             ├┤3             ├┤3              ├──────────╫──╫──╫──╫──╫──╫──╫──╫─\n",
              "           └─────────────┘└─────────────┘└─────────────┘└─────────────┘└──────────────┘└──────────────┘└──────────────┘└───────────────┘          ║  ║  ║  ║  ║  ║  ║  ║ \n",
              " c: 8/════════════════════════════════════════════════════════════════════════════════════════════════════════════════════════════════════════════╩══╩══╩══╩══╩══╩══╩══╩═\n",
              "                                                                                                                                                  0  1  2  3  4  5  6  7 </pre>"
            ]
          },
          "metadata": {},
          "execution_count": 12
        }
      ]
    },
    {
      "cell_type": "code",
      "source": [
        "aer_sim = Aer.get_backend('aer_simulator')\n",
        "t_qc = transpile(qc, aer_sim)\n",
        "counts = aer_sim.run(t_qc).result().get_counts()\n",
        "plot_histogram(counts)"
      ],
      "metadata": {
        "colab": {
          "base_uri": "https://localhost:8080/",
          "height": 487
        },
        "id": "i-heMIl-cdgA",
        "outputId": "121448b1-fdb3-43e3-f299-00b98884594b"
      },
      "execution_count": null,
      "outputs": [
        {
          "output_type": "execute_result",
          "data": {
            "text/plain": [
              "<Figure size 640x480 with 1 Axes>"
            ],
            "image/png": "[encoded data removed]"
          },
          "metadata": {},
          "execution_count": 13
        }
      ]
    },
    {
      "cell_type": "code",
      "source": [
        "rows, measured_phases = [], []\n",
        "for output in counts:\n",
        "    decimal = int(output, 2)  # Convert (base 2) string to decimal\n",
        "    phase = decimal/(2**N_COUNT)  # Find corresponding eigenvalue\n",
        "    measured_phases.append(phase)\n",
        "    # Add these values to the rows in our table:\n",
        "    rows.append([f\"{output}(bin) = {decimal:>3}(dec)\",\n",
        "                 f\"{decimal}/{2**N_COUNT} = {phase:.2f}\"])\n",
        "# Print the rows in a table\n",
        "headers=[\"Register Output\", \"Phase\"]\n",
        "df = pd.DataFrame(rows, columns=headers)\n",
        "print(df)"
      ],
      "metadata": {
        "colab": {
          "base_uri": "https://localhost:8080/"
        },
        "id": "DOUnaxy8ceL_",
        "outputId": "ab8a2164-ce73-4420-de0c-4e4db6809869"
      },
      "execution_count": null,
      "outputs": [
        {
          "output_type": "stream",
          "name": "stdout",
          "text": [
            "            Register Output           Phase\n",
            "0  11000000(bin) = 192(dec)  192/256 = 0.75\n",
            "1  10000000(bin) = 128(dec)  128/256 = 0.50\n",
            "2  01000000(bin) =  64(dec)   64/256 = 0.25\n",
            "3  00000000(bin) =   0(dec)    0/256 = 0.00\n"
          ]
        }
      ]
    },
    {
      "cell_type": "code",
      "source": [
        "Fraction(0.666)"
      ],
      "metadata": {
        "colab": {
          "base_uri": "https://localhost:8080/"
        },
        "id": "QEHk__DscigP",
        "outputId": "d3efea0b-b5ee-49ce-dc83-2e90b4d99ea1"
      },
      "execution_count": null,
      "outputs": [
        {
          "output_type": "execute_result",
          "data": {
            "text/plain": [
              "Fraction(5998794703657501, 9007199254740992)"
            ]
          },
          "metadata": {},
          "execution_count": 15
        }
      ]
    },
    {
      "cell_type": "code",
      "source": [
        "# Get fraction that most closely resembles 0.666\n",
        "# with denominator < 15\n",
        "Fraction(0.666).limit_denominator(15)"
      ],
      "metadata": {
        "colab": {
          "base_uri": "https://localhost:8080/"
        },
        "id": "aXew-Ur_cie3",
        "outputId": "f1366c7e-b7f3-4274-d966-607cf53e5143"
      },
      "execution_count": null,
      "outputs": [
        {
          "output_type": "execute_result",
          "data": {
            "text/plain": [
              "Fraction(2, 3)"
            ]
          },
          "metadata": {},
          "execution_count": 16
        }
      ]
    },
    {
      "cell_type": "code",
      "source": [
        "rows = []\n",
        "for phase in measured_phases:\n",
        "    frac = Fraction(phase).limit_denominator(15)\n",
        "    rows.append([phase,\n",
        "                 f\"{frac.numerator}/{frac.denominator}\",\n",
        "                 frac.denominator])\n",
        "# Print as a table\n",
        "headers=[\"Phase\", \"Fraction\", \"Guess for r\"]\n",
        "df = pd.DataFrame(rows, columns=headers)\n",
        "print(df)"
      ],
      "metadata": {
        "colab": {
          "base_uri": "https://localhost:8080/"
        },
        "id": "17f7WxNtcnYX",
        "outputId": "8850ddc6-d01e-42f5-91ae-6735450e8920"
      },
      "execution_count": null,
      "outputs": [
        {
          "output_type": "stream",
          "name": "stdout",
          "text": [
            "   Phase Fraction  Guess for r\n",
            "0   0.75      3/4            4\n",
            "1   0.50      1/2            2\n",
            "2   0.25      1/4            4\n",
            "3   0.00      0/1            1\n"
          ]
        }
      ]
    },
    {
      "cell_type": "code",
      "source": [
        "def a2jmodN(a, j, N):\n",
        "    \"\"\"Compute a^{2^j} (mod N) by repeated squaring\"\"\"\n",
        "    for _ in range(j):\n",
        "        a = np.mod(a**2, N)\n",
        "    return a"
      ],
      "metadata": {
        "id": "sE_CK0qpcqDf"
      },
      "execution_count": null,
      "outputs": []
    },
    {
      "cell_type": "code",
      "source": [
        "a2jmodN(7, 2049, 53)"
      ],
      "metadata": {
        "colab": {
          "base_uri": "https://localhost:8080/"
        },
        "id": "nvzKvC_KcsGK",
        "outputId": "6af59ad4-6924-426d-fd41-4733eb6ef121"
      },
      "execution_count": null,
      "outputs": [
        {
          "output_type": "execute_result",
          "data": {
            "text/plain": [
              "np.int64(47)"
            ]
          },
          "metadata": {},
          "execution_count": 19
        }
      ]
    },
    {
      "cell_type": "code",
      "source": [
        "N = 15"
      ],
      "metadata": {
        "id": "736GSqE_cviH"
      },
      "execution_count": null,
      "outputs": []
    },
    {
      "cell_type": "code",
      "source": [
        "np.random.seed(1) # This is to make sure we get reproduceable results\n",
        "a = randint(2, 15)\n",
        "print(a)"
      ],
      "metadata": {
        "colab": {
          "base_uri": "https://localhost:8080/"
        },
        "id": "y268Zj0Vcydv",
        "outputId": "67344026-4328-4aa9-9a02-eddf73888164"
      },
      "execution_count": null,
      "outputs": [
        {
          "output_type": "stream",
          "name": "stdout",
          "text": [
            "7\n"
          ]
        }
      ]
    },
    {
      "cell_type": "code",
      "source": [
        "from math import gcd # greatest common divisor\n",
        "gcd(a, N)"
      ],
      "metadata": {
        "colab": {
          "base_uri": "https://localhost:8080/"
        },
        "id": "0NNARqETc0oY",
        "outputId": "8493ecd8-f58a-4779-dd78-29da6d990fea"
      },
      "execution_count": null,
      "outputs": [
        {
          "output_type": "execute_result",
          "data": {
            "text/plain": [
              "1"
            ]
          },
          "metadata": {},
          "execution_count": 22
        }
      ]
    },
    {
      "cell_type": "code",
      "source": [
        "def qpe_amod15(a):\n",
        "    \"\"\"Performs quantum phase estimation on the operation a*r mod 15.\n",
        "    Args:\n",
        "        a (int): This is 'a' in a*r mod 15\n",
        "    Returns:\n",
        "        float: Estimate of the phase\n",
        "    \"\"\"\n",
        "    N_COUNT = 8\n",
        "    qc = QuantumCircuit(4+N_COUNT, N_COUNT)\n",
        "    for q in range(N_COUNT):\n",
        "        qc.h(q)     # Initialize counting qubits in state |+>\n",
        "    qc.x(N_COUNT) # And auxiliary register in state |1>\n",
        "    for q in range(N_COUNT): # Do controlled-U operations\n",
        "        qc.append(c_amod15(a, 2**q),\n",
        "                 [q] + [i+N_COUNT for i in range(4)])\n",
        "    qc.append(qft_dagger(N_COUNT), range(N_COUNT)) # Do inverse-QFT\n",
        "    qc.measure(range(N_COUNT), range(N_COUNT))\n",
        "    # Simulate Results\n",
        "    aer_sim = Aer.get_backend('aer_simulator')\n",
        "    # `memory=True` tells the backend to save each measurement in a list\n",
        "    job = aer_sim.run(transpile(qc, aer_sim), shots=1, memory=True)\n",
        "    readings = job.result().get_memory()\n",
        "    print(\"Register Reading: \" + readings[0])\n",
        "    phase = int(readings[0],2)/(2**N_COUNT)\n",
        "    print(f\"Corresponding Phase: {phase}\")\n",
        "    return phase"
      ],
      "metadata": {
        "id": "fSurwuWpc3Q5"
      },
      "execution_count": null,
      "outputs": []
    },
    {
      "cell_type": "code",
      "source": [
        "phase = qpe_amod15(a) # Phase = s/r\n",
        "Fraction(phase).limit_denominator(15)"
      ],
      "metadata": {
        "colab": {
          "base_uri": "https://localhost:8080/"
        },
        "id": "1wzZUqCXc5Rx",
        "outputId": "9b625d75-e6ba-4562-969e-f5cd630b91f5"
      },
      "execution_count": null,
      "outputs": [
        {
          "output_type": "stream",
          "name": "stdout",
          "text": [
            "Register Reading: 00000000\n",
            "Corresponding Phase: 0.0\n"
          ]
        },
        {
          "output_type": "execute_result",
          "data": {
            "text/plain": [
              "Fraction(0, 1)"
            ]
          },
          "metadata": {},
          "execution_count": 24
        }
      ]
    },
    {
      "cell_type": "code",
      "source": [
        "frac = Fraction(phase).limit_denominator(15)\n",
        "s, r = frac.numerator, frac.denominator\n",
        "print(r)"
      ],
      "metadata": {
        "colab": {
          "base_uri": "https://localhost:8080/"
        },
        "id": "bfcLUc28c5Qv",
        "outputId": "b2f4593b-f93e-4104-f1fe-e4ed71b0c4af"
      },
      "execution_count": null,
      "outputs": [
        {
          "output_type": "stream",
          "name": "stdout",
          "text": [
            "1\n"
          ]
        }
      ]
    },
    {
      "cell_type": "code",
      "source": [
        "guesses = [gcd(a**(r//2)-1, N), gcd(a**(r//2)+1, N)]\n",
        "print(guesses)"
      ],
      "metadata": {
        "colab": {
          "base_uri": "https://localhost:8080/"
        },
        "id": "GLKhPqxmdHZX",
        "outputId": "64082a0d-f170-4453-c01d-4d5dc98f741e"
      },
      "execution_count": null,
      "outputs": [
        {
          "output_type": "stream",
          "name": "stdout",
          "text": [
            "[15, 1]\n"
          ]
        }
      ]
    },
    {
      "cell_type": "code",
      "source": [
        "a = 7\n",
        "FACTOR_FOUND = False\n",
        "ATTEMPT = 0\n",
        "while not FACTOR_FOUND:\n",
        "    ATTEMPT += 1\n",
        "    print(f\"\\nATTEMPT {ATTEMPT}:\")\n",
        "    phase = qpe_amod15(a) # Phase = s/r\n",
        "    frac = Fraction(phase).limit_denominator(N)\n",
        "    r = frac.denominator\n",
        "    print(f\"Result: r = {r}\")\n",
        "    if phase != 0:\n",
        "        # Guesses for factors are gcd(x^{r/2} ±1 , 15)\n",
        "        guesses = [gcd(a**(r//2)-1, N), gcd(a**(r//2)+1, N)]\n",
        "        print(f\"Guessed Factors: {guesses[0]} and {guesses[1]}\")\n",
        "        for guess in guesses:\n",
        "            if guess not in [1,N] and (N % guess) == 0:\n",
        "                # Guess is a factor!\n",
        "                print(f\"*** Non-trivial factor found: {guess} ***\")\n",
        "                FACTOR_FOUND = True"
      ],
      "metadata": {
        "colab": {
          "base_uri": "https://localhost:8080/"
        },
        "id": "rj_O1QPGdJYn",
        "outputId": "d1383114-b95a-46dd-c6e4-049e1239a879"
      },
      "execution_count": null,
      "outputs": [
        {
          "output_type": "stream",
          "name": "stdout",
          "text": [
            "\n",
            "ATTEMPT 1:\n",
            "Register Reading: 01000000\n",
            "Corresponding Phase: 0.25\n",
            "Result: r = 4\n",
            "Guessed Factors: 3 and 5\n",
            "*** Non-trivial factor found: 3 ***\n",
            "*** Non-trivial factor found: 5 ***\n"
          ]
        }
      ]
    },
    {
      "cell_type": "code",
      "source": [
        "# The cell below repeats the algorithm until at least one factor of 15\n",
        "# is found\n",
        "assert (3 in guesses) or (5 in guesses)"
      ],
      "metadata": {
        "id": "nXbVKKzxdOKZ"
      },
      "execution_count": null,
      "outputs": []
    },
    {
      "cell_type": "markdown",
      "source": [
        "# Section 2"
      ],
      "metadata": {
        "id": "4iTiKQUbdna1"
      }
    },
    {
      "cell_type": "code",
      "source": [
        "#initialization\n",
        "import matplotlib.pyplot as plt\n",
        "import numpy as np\n",
        "import math\n",
        "\n",
        "# import basic plot tools\n",
        "from qiskit.visualization import plot_histogram"
      ],
      "metadata": {
        "id": "L1Z3Zt02drf3"
      },
      "execution_count": 6,
      "outputs": []
    },
    {
      "cell_type": "code",
      "source": [
        "n = 2\n",
        "grover_circuit = QuantumCircuit(n)"
      ],
      "metadata": {
        "id": "0yb9O3JFeWQP"
      },
      "execution_count": 7,
      "outputs": []
    },
    {
      "cell_type": "code",
      "source": [
        "def initialize_s(qc, qubits):\n",
        "    \"\"\"Apply a H-gate to 'qubits' in qc\"\"\"\n",
        "    for q in qubits:\n",
        "        qc.h(q)\n",
        "    return qc"
      ],
      "metadata": {
        "id": "Z2sw9RV-edmX"
      },
      "execution_count": 8,
      "outputs": []
    },
    {
      "cell_type": "code",
      "source": [
        "grover_circuit = initialize_s(grover_circuit, [0,1])\n",
        "grover_circuit.draw()"
      ],
      "metadata": {
        "colab": {
          "base_uri": "https://localhost:8080/",
          "height": 94
        },
        "id": "6Ldc6fnLegSP",
        "outputId": "d03e8489-8589-4df9-d826-d364bb48fe01"
      },
      "execution_count": 9,
      "outputs": [
        {
          "output_type": "execute_result",
          "data": {
            "text/plain": [
              "     ┌───┐\n",
              "q_0: ┤ H ├\n",
              "     ├───┤\n",
              "q_1: ┤ H ├\n",
              "     └───┘"
            ],
            "text/html": [
              "<pre style=\"word-wrap: normal;white-space: pre;background: #fff0;line-height: 1.1;font-family: &quot;Courier New&quot;,Courier,monospace\">     ┌───┐\n",
              "q_0: ┤ H ├\n",
              "     ├───┤\n",
              "q_1: ┤ H ├\n",
              "     └───┘</pre>"
            ]
          },
          "metadata": {},
          "execution_count": 9
        }
      ]
    },
    {
      "cell_type": "code",
      "source": [
        "grover_circuit.cz(0,1) # Oracle\n",
        "grover_circuit.draw()"
      ],
      "metadata": {
        "colab": {
          "base_uri": "https://localhost:8080/",
          "height": 94
        },
        "id": "C6nm56-3eiMo",
        "outputId": "f1292916-c0cd-429b-da1f-0483df9c29ed"
      },
      "execution_count": 10,
      "outputs": [
        {
          "output_type": "execute_result",
          "data": {
            "text/plain": [
              "     ┌───┐   \n",
              "q_0: ┤ H ├─■─\n",
              "     ├───┤ │ \n",
              "q_1: ┤ H ├─■─\n",
              "     └───┘   "
            ],
            "text/html": [
              "<pre style=\"word-wrap: normal;white-space: pre;background: #fff0;line-height: 1.1;font-family: &quot;Courier New&quot;,Courier,monospace\">     ┌───┐   \n",
              "q_0: ┤ H ├─■─\n",
              "     ├───┤ │ \n",
              "q_1: ┤ H ├─■─\n",
              "     └───┘   </pre>"
            ]
          },
          "metadata": {},
          "execution_count": 10
        }
      ]
    },
    {
      "cell_type": "code",
      "source": [
        "# Diffusion operator (U_s)\n",
        "grover_circuit.h([0,1])\n",
        "grover_circuit.z([0,1])\n",
        "grover_circuit.cz(0,1)\n",
        "grover_circuit.h([0,1])\n",
        "grover_circuit.draw()"
      ],
      "metadata": {
        "colab": {
          "base_uri": "https://localhost:8080/",
          "height": 94
        },
        "id": "r9VOVn8EekY_",
        "outputId": "eba6ae8e-dc0f-4ec2-d087-ced6baa2e4f0"
      },
      "execution_count": 11,
      "outputs": [
        {
          "output_type": "execute_result",
          "data": {
            "text/plain": [
              "     ┌───┐   ┌───┐┌───┐   ┌───┐\n",
              "q_0: ┤ H ├─■─┤ H ├┤ Z ├─■─┤ H ├\n",
              "     ├───┤ │ ├───┤├───┤ │ ├───┤\n",
              "q_1: ┤ H ├─■─┤ H ├┤ Z ├─■─┤ H ├\n",
              "     └───┘   └───┘└───┘   └───┘"
            ],
            "text/html": [
              "<pre style=\"word-wrap: normal;white-space: pre;background: #fff0;line-height: 1.1;font-family: &quot;Courier New&quot;,Courier,monospace\">     ┌───┐   ┌───┐┌───┐   ┌───┐\n",
              "q_0: ┤ H ├─■─┤ H ├┤ Z ├─■─┤ H ├\n",
              "     ├───┤ │ ├───┤├───┤ │ ├───┤\n",
              "q_1: ┤ H ├─■─┤ H ├┤ Z ├─■─┤ H ├\n",
              "     └───┘   └───┘└───┘   └───┘</pre>"
            ]
          },
          "metadata": {},
          "execution_count": 11
        }
      ]
    },
    {
      "cell_type": "code",
      "source": [
        "sv_sim = Aer.get_backend('statevector_simulator')\n",
        "result = sv_sim.run(grover_circuit).result()\n",
        "statevec = result.get_statevector()\n",
        "from qiskit.visualization import array_to_latex\n",
        "array_to_latex(statevec, prefix=\"|\\\\psi\\\\rangle =\")"
      ],
      "metadata": {
        "colab": {
          "base_uri": "https://localhost:8080/",
          "height": 38
        },
        "id": "ujt6UA0VenYg",
        "outputId": "4e4d21d8-52cc-40de-cdf5-9214d5383067"
      },
      "execution_count": 12,
      "outputs": [
        {
          "output_type": "execute_result",
          "data": {
            "text/plain": [
              "<IPython.core.display.Latex object>"
            ],
            "text/latex": "$$\n|\\psi\\rangle =\n\\begin{bmatrix}\n0 & 0 & 0 & 1  \\\\\n \\end{bmatrix}\n$$"
          },
          "metadata": {},
          "execution_count": 12
        }
      ]
    },
    {
      "cell_type": "code",
      "source": [
        "grover_circuit.measure_all()\n",
        "\n",
        "qasm_sim = Aer.get_backend('qasm_simulator')\n",
        "result = qasm_sim.run(grover_circuit).result()\n",
        "counts = result.get_counts()\n",
        "plot_histogram(counts)"
      ],
      "metadata": {
        "colab": {
          "base_uri": "https://localhost:8080/",
          "height": 487
        },
        "id": "arNK0_v_eo8_",
        "outputId": "b07301e9-e719-45c4-e98a-d6c9db84a3b2"
      },
      "execution_count": 13,
      "outputs": [
        {
          "output_type": "execute_result",
          "data": {
            "text/plain": [
              "<Figure size 640x480 with 1 Axes>"
            ],
            "image/png": "[encoded data removed]"
          },
          "metadata": {},
          "execution_count": 13
        }
      ]
    },
    {
      "cell_type": "code",
      "source": [
        "qc = QuantumCircuit(3)\n",
        "qc.cz(0, 2)\n",
        "qc.cz(1, 2)\n",
        "oracle_ex3 = qc.to_gate()\n",
        "oracle_ex3.name = \"U$_\\omega$\""
      ],
      "metadata": {
        "id": "hCyQ7gnWetKP"
      },
      "execution_count": 14,
      "outputs": []
    },
    {
      "cell_type": "code",
      "source": [
        "def diffuser(nqubits):\n",
        "    qc = QuantumCircuit(nqubits)\n",
        "    # Apply transformation |s> -> |00..0> (H-gates)\n",
        "    for qubit in range(nqubits):\n",
        "        qc.h(qubit)\n",
        "    # Apply transformation |00..0> -> |11..1> (X-gates)\n",
        "    for qubit in range(nqubits):\n",
        "        qc.x(qubit)\n",
        "    # Do multi-controlled-Z gate\n",
        "    qc.h(nqubits-1)\n",
        "    qc.mcx(list(range(nqubits-1)), nqubits-1)\n",
        "  # multi-controlled-toffoli\n",
        "    qc.h(nqubits-1)\n",
        "    # Apply transformation |11..1> -> |00..0>\n",
        "    for qubit in range(nqubits):\n",
        "        qc.x(qubit)\n",
        "    # Apply transformation |00..0> -> |s>\n",
        "    for qubit in range(nqubits):\n",
        "        qc.h(qubit)\n",
        "    # We will return the diffuser as a gate\n",
        "    U_s = qc.to_gate()\n",
        "    U_s.name = \"U$_s$\"\n",
        "    return U_s"
      ],
      "metadata": {
        "id": "tmg4Ks0qewXf"
      },
      "execution_count": 15,
      "outputs": []
    },
    {
      "cell_type": "code",
      "source": [
        "n = 3\n",
        "grover_circuit = QuantumCircuit(n)\n",
        "grover_circuit = initialize_s(grover_circuit, [0,1,2])\n",
        "grover_circuit.append(oracle_ex3, [0,1,2])\n",
        "grover_circuit.append(diffuser(n), [0,1,2])\n",
        "grover_circuit.measure_all()\n",
        "grover_circuit.draw()"
      ],
      "metadata": {
        "colab": {
          "base_uri": "https://localhost:8080/",
          "height": 156
        },
        "id": "6_NfbN_Te4Gf",
        "outputId": "5206d728-1fc2-4b9b-affe-d7701304541a"
      },
      "execution_count": 16,
      "outputs": [
        {
          "output_type": "execute_result",
          "data": {
            "text/plain": [
              "        ┌───┐┌─────────────┐┌────────┐ ░ ┌─┐      \n",
              "   q_0: ┤ H ├┤0            ├┤0       ├─░─┤M├──────\n",
              "        ├───┤│             ││        │ ░ └╥┘┌─┐   \n",
              "   q_1: ┤ H ├┤1 U$_\\omega$ ├┤1 U$_s$ ├─░──╫─┤M├───\n",
              "        ├───┤│             ││        │ ░  ║ └╥┘┌─┐\n",
              "   q_2: ┤ H ├┤2            ├┤2       ├─░──╫──╫─┤M├\n",
              "        └───┘└─────────────┘└────────┘ ░  ║  ║ └╥┘\n",
              "meas: 3/══════════════════════════════════╩══╩══╩═\n",
              "                                          0  1  2 "
            ],
            "text/html": [
              "<pre style=\"word-wrap: normal;white-space: pre;background: #fff0;line-height: 1.1;font-family: &quot;Courier New&quot;,Courier,monospace\">        ┌───┐┌─────────────┐┌────────┐ ░ ┌─┐      \n",
              "   q_0: ┤ H ├┤0            ├┤0       ├─░─┤M├──────\n",
              "        ├───┤│             ││        │ ░ └╥┘┌─┐   \n",
              "   q_1: ┤ H ├┤1 U$_\\omega$ ├┤1 U$_s$ ├─░──╫─┤M├───\n",
              "        ├───┤│             ││        │ ░  ║ └╥┘┌─┐\n",
              "   q_2: ┤ H ├┤2            ├┤2       ├─░──╫──╫─┤M├\n",
              "        └───┘└─────────────┘└────────┘ ░  ║  ║ └╥┘\n",
              "meas: 3/══════════════════════════════════╩══╩══╩═\n",
              "                                          0  1  2 </pre>"
            ]
          },
          "metadata": {},
          "execution_count": 16
        }
      ]
    },
    {
      "cell_type": "code",
      "source": [
        "qasm_sim = Aer.get_backend('qasm_simulator')\n",
        "transpiled_grover_circuit = transpile(grover_circuit, qasm_sim)\n",
        "results = qasm_sim.run(transpiled_grover_circuit).result()\n",
        "counts = results.get_counts()\n",
        "plot_histogram(counts)"
      ],
      "metadata": {
        "id": "sDePE1_-e-Lf",
        "colab": {
          "base_uri": "https://localhost:8080/",
          "height": 487
        },
        "outputId": "cfc73360-59fe-4e1e-ba99-6092d132af35"
      },
      "execution_count": 17,
      "outputs": [
        {
          "output_type": "execute_result",
          "data": {
            "text/plain": [
              "<Figure size 640x480 with 1 Axes>"
            ],
            "image/png": "[encoded data removed]"
          },
          "metadata": {},
          "execution_count": 17
        }
      ]
    },
    {
      "cell_type": "code",
      "source": [
        "clause_list = [[0,1],\n",
        "               [0,2],\n",
        "               [1,3],\n",
        "               [2,3]]"
      ],
      "metadata": {
        "id": "cq0doiBAfFaf"
      },
      "execution_count": 18,
      "outputs": []
    },
    {
      "cell_type": "code",
      "source": [
        "def XOR(qc, a, b, output):\n",
        "    qc.cx(a, output)\n",
        "    qc.cx(b, output)"
      ],
      "metadata": {
        "id": "n-DS7iGpfa-O"
      },
      "execution_count": 19,
      "outputs": []
    },
    {
      "cell_type": "code",
      "source": [
        "from qiskit import QuantumRegister, ClassicalRegister, QuantumCircuit\n",
        "# We will use separate registers to name the bits\n",
        "in_qubits = QuantumRegister(2, name='input')\n",
        "out_qubit = QuantumRegister(1, name='output')\n",
        "qc = QuantumCircuit(in_qubits, out_qubit)\n",
        "XOR(qc, in_qubits[0], in_qubits[1], out_qubit)\n",
        "qc.draw()"
      ],
      "metadata": {
        "id": "prels5u9fbiP",
        "colab": {
          "base_uri": "https://localhost:8080/",
          "height": 125
        },
        "outputId": "e89bd21c-62c1-4867-fb36-fc81ba04c727"
      },
      "execution_count": 20,
      "outputs": [
        {
          "output_type": "execute_result",
          "data": {
            "text/plain": [
              "                   \n",
              "input_0: ──■───────\n",
              "           │       \n",
              "input_1: ──┼────■──\n",
              "         ┌─┴─┐┌─┴─┐\n",
              " output: ┤ X ├┤ X ├\n",
              "         └───┘└───┘"
            ],
            "text/html": [
              "<pre style=\"word-wrap: normal;white-space: pre;background: #fff0;line-height: 1.1;font-family: &quot;Courier New&quot;,Courier,monospace\">                   \n",
              "input_0: ──■───────\n",
              "           │       \n",
              "input_1: ──┼────■──\n",
              "         ┌─┴─┐┌─┴─┐\n",
              " output: ┤ X ├┤ X ├\n",
              "         └───┘└───┘</pre>"
            ]
          },
          "metadata": {},
          "execution_count": 20
        }
      ]
    },
    {
      "cell_type": "code",
      "source": [
        "# Create separate registers to name bits\n",
        "var_qubits = QuantumRegister(4, name='v')  # variable bits\n",
        "clause_qubits = QuantumRegister(4, name='c')  # bits to store clause-checks\n",
        "\n",
        "# Create quantum circuit\n",
        "qc = QuantumCircuit(var_qubits, clause_qubits)\n",
        "\n",
        "# Use XOR gate to check each clause\n",
        "i = 0\n",
        "for clause in clause_list:\n",
        "    XOR(qc, clause[0], clause[1], clause_qubits[i])\n",
        "    i += 1\n",
        "\n",
        "qc.draw()"
      ],
      "metadata": {
        "id": "xzbBTVGzffiQ",
        "colab": {
          "base_uri": "https://localhost:8080/",
          "height": 279
        },
        "outputId": "28bb0f73-4387-4011-e00b-696b6937542b"
      },
      "execution_count": 21,
      "outputs": [
        {
          "output_type": "execute_result",
          "data": {
            "text/plain": [
              "                                             \n",
              "v_0: ──■─────────■───────────────────────────\n",
              "       │         │                           \n",
              "v_1: ──┼────■────┼─────────■─────────────────\n",
              "       │    │    │         │                 \n",
              "v_2: ──┼────┼────┼────■────┼─────────■───────\n",
              "       │    │    │    │    │         │       \n",
              "v_3: ──┼────┼────┼────┼────┼────■────┼────■──\n",
              "     ┌─┴─┐┌─┴─┐  │    │    │    │    │    │  \n",
              "c_0: ┤ X ├┤ X ├──┼────┼────┼────┼────┼────┼──\n",
              "     └───┘└───┘┌─┴─┐┌─┴─┐  │    │    │    │  \n",
              "c_1: ──────────┤ X ├┤ X ├──┼────┼────┼────┼──\n",
              "               └───┘└───┘┌─┴─┐┌─┴─┐  │    │  \n",
              "c_2: ────────────────────┤ X ├┤ X ├──┼────┼──\n",
              "                         └───┘└───┘┌─┴─┐┌─┴─┐\n",
              "c_3: ──────────────────────────────┤ X ├┤ X ├\n",
              "                                   └───┘└───┘"
            ],
            "text/html": [
              "<pre style=\"word-wrap: normal;white-space: pre;background: #fff0;line-height: 1.1;font-family: &quot;Courier New&quot;,Courier,monospace\">                                             \n",
              "v_0: ──■─────────■───────────────────────────\n",
              "       │         │                           \n",
              "v_1: ──┼────■────┼─────────■─────────────────\n",
              "       │    │    │         │                 \n",
              "v_2: ──┼────┼────┼────■────┼─────────■───────\n",
              "       │    │    │    │    │         │       \n",
              "v_3: ──┼────┼────┼────┼────┼────■────┼────■──\n",
              "     ┌─┴─┐┌─┴─┐  │    │    │    │    │    │  \n",
              "c_0: ┤ X ├┤ X ├──┼────┼────┼────┼────┼────┼──\n",
              "     └───┘└───┘┌─┴─┐┌─┴─┐  │    │    │    │  \n",
              "c_1: ──────────┤ X ├┤ X ├──┼────┼────┼────┼──\n",
              "               └───┘└───┘┌─┴─┐┌─┴─┐  │    │  \n",
              "c_2: ────────────────────┤ X ├┤ X ├──┼────┼──\n",
              "                         └───┘└───┘┌─┴─┐┌─┴─┐\n",
              "c_3: ──────────────────────────────┤ X ├┤ X ├\n",
              "                                   └───┘└───┘</pre>"
            ]
          },
          "metadata": {},
          "execution_count": 21
        }
      ]
    },
    {
      "cell_type": "code",
      "source": [
        "# Create separate registers to name bits\n",
        "var_qubits = QuantumRegister(4, name='v')\n",
        "clause_qubits = QuantumRegister(4, name='c')\n",
        "output_qubit = QuantumRegister(1, name='out')\n",
        "qc = QuantumCircuit(var_qubits, clause_qubits, output_qubit)\n",
        "\n",
        "# Compute clauses\n",
        "i = 0\n",
        "for clause in clause_list:\n",
        "    XOR(qc, clause[0], clause[1], clause_qubits[i])\n",
        "    i += 1\n",
        "\n",
        "# Flip 'output' bit if all clauses are satisfied\n",
        "qc.mcx(clause_qubits, output_qubit)\n",
        "\n",
        "qc.draw()"
      ],
      "metadata": {
        "id": "O5MWrDASfhv-",
        "colab": {
          "base_uri": "https://localhost:8080/",
          "height": 309
        },
        "outputId": "3f154173-ea12-4ec4-966e-994591e91039"
      },
      "execution_count": 22,
      "outputs": [
        {
          "output_type": "execute_result",
          "data": {
            "text/plain": [
              "                                                  \n",
              "v_0: ──■─────────■────────────────────────────────\n",
              "       │         │                                \n",
              "v_1: ──┼────■────┼─────────■──────────────────────\n",
              "       │    │    │         │                      \n",
              "v_2: ──┼────┼────┼────■────┼─────────■────────────\n",
              "       │    │    │    │    │         │            \n",
              "v_3: ──┼────┼────┼────┼────┼────■────┼────■───────\n",
              "     ┌─┴─┐┌─┴─┐  │    │    │    │    │    │       \n",
              "c_0: ┤ X ├┤ X ├──┼────┼────┼────┼────┼────┼────■──\n",
              "     └───┘└───┘┌─┴─┐┌─┴─┐  │    │    │    │    │  \n",
              "c_1: ──────────┤ X ├┤ X ├──┼────┼────┼────┼────■──\n",
              "               └───┘└───┘┌─┴─┐┌─┴─┐  │    │    │  \n",
              "c_2: ────────────────────┤ X ├┤ X ├──┼────┼────■──\n",
              "                         └───┘└───┘┌─┴─┐┌─┴─┐  │  \n",
              "c_3: ──────────────────────────────┤ X ├┤ X ├──■──\n",
              "                                   └───┘└───┘┌─┴─┐\n",
              "out: ────────────────────────────────────────┤ X ├\n",
              "                                             └───┘"
            ],
            "text/html": [
              "<pre style=\"word-wrap: normal;white-space: pre;background: #fff0;line-height: 1.1;font-family: &quot;Courier New&quot;,Courier,monospace\">                                                  \n",
              "v_0: ──■─────────■────────────────────────────────\n",
              "       │         │                                \n",
              "v_1: ──┼────■────┼─────────■──────────────────────\n",
              "       │    │    │         │                      \n",
              "v_2: ──┼────┼────┼────■────┼─────────■────────────\n",
              "       │    │    │    │    │         │            \n",
              "v_3: ──┼────┼────┼────┼────┼────■────┼────■───────\n",
              "     ┌─┴─┐┌─┴─┐  │    │    │    │    │    │       \n",
              "c_0: ┤ X ├┤ X ├──┼────┼────┼────┼────┼────┼────■──\n",
              "     └───┘└───┘┌─┴─┐┌─┴─┐  │    │    │    │    │  \n",
              "c_1: ──────────┤ X ├┤ X ├──┼────┼────┼────┼────■──\n",
              "               └───┘└───┘┌─┴─┐┌─┴─┐  │    │    │  \n",
              "c_2: ────────────────────┤ X ├┤ X ├──┼────┼────■──\n",
              "                         └───┘└───┘┌─┴─┐┌─┴─┐  │  \n",
              "c_3: ──────────────────────────────┤ X ├┤ X ├──■──\n",
              "                                   └───┘└───┘┌─┴─┐\n",
              "out: ────────────────────────────────────────┤ X ├\n",
              "                                             └───┘</pre>"
            ]
          },
          "metadata": {},
          "execution_count": 22
        }
      ]
    },
    {
      "cell_type": "code",
      "source": [
        "var_qubits = QuantumRegister(4, name='v')\n",
        "clause_qubits = QuantumRegister(4, name='c')\n",
        "output_qubit = QuantumRegister(1, name='out')\n",
        "cbits = ClassicalRegister(4, name='cbits')\n",
        "qc = QuantumCircuit(var_qubits, clause_qubits, output_qubit, cbits)\n",
        "\n",
        "def sudoku_oracle(qc, clause_list, clause_qubits):\n",
        "    # Compute clauses\n",
        "    i = 0\n",
        "    for clause in clause_list:\n",
        "        XOR(qc, clause[0], clause[1], clause_qubits[i])\n",
        "        i += 1\n",
        "\n",
        "    # Flip 'output' bit if all clauses are satisfied\n",
        "    qc.mcx(clause_qubits, output_qubit)\n",
        "\n",
        "    # Uncompute clauses to reset clause-checking bits to 0\n",
        "    i = 0\n",
        "    for clause in clause_list:\n",
        "        XOR(qc, clause[0], clause[1], clause_qubits[i])\n",
        "        i += 1\n",
        "\n",
        "sudoku_oracle(qc, clause_list, clause_qubits)\n",
        "qc.draw()"
      ],
      "metadata": {
        "id": "CAUSXV_ffuh0",
        "colab": {
          "base_uri": "https://localhost:8080/",
          "height": 663
        },
        "outputId": "9b13cd57-7546-4fef-d7d7-16853e17eddb"
      },
      "execution_count": 23,
      "outputs": [
        {
          "output_type": "execute_result",
          "data": {
            "text/plain": [
              "                                                                               »\n",
              "    v_0: ──■─────────■──────────────────────────────────■─────────■────────────»\n",
              "           │         │                                  │         │            »\n",
              "    v_1: ──┼────■────┼─────────■────────────────────────┼────■────┼─────────■──»\n",
              "           │    │    │         │                        │    │    │         │  »\n",
              "    v_2: ──┼────┼────┼────■────┼─────────■──────────────┼────┼────┼────■────┼──»\n",
              "           │    │    │    │    │         │              │    │    │    │    │  »\n",
              "    v_3: ──┼────┼────┼────┼────┼────■────┼────■─────────┼────┼────┼────┼────┼──»\n",
              "         ┌─┴─┐┌─┴─┐  │    │    │    │    │    │       ┌─┴─┐┌─┴─┐  │    │    │  »\n",
              "    c_0: ┤ X ├┤ X ├──┼────┼────┼────┼────┼────┼────■──┤ X ├┤ X ├──┼────┼────┼──»\n",
              "         └───┘└───┘┌─┴─┐┌─┴─┐  │    │    │    │    │  └───┘└───┘┌─┴─┐┌─┴─┐  │  »\n",
              "    c_1: ──────────┤ X ├┤ X ├──┼────┼────┼────┼────■────────────┤ X ├┤ X ├──┼──»\n",
              "                   └───┘└───┘┌─┴─┐┌─┴─┐  │    │    │            └───┘└───┘┌─┴─┐»\n",
              "    c_2: ────────────────────┤ X ├┤ X ├──┼────┼────■──────────────────────┤ X ├»\n",
              "                             └───┘└───┘┌─┴─┐┌─┴─┐  │                      └───┘»\n",
              "    c_3: ──────────────────────────────┤ X ├┤ X ├──■───────────────────────────»\n",
              "                                       └───┘└───┘┌─┴─┐                         »\n",
              "    out: ────────────────────────────────────────┤ X ├─────────────────────────»\n",
              "                                                 └───┘                         »\n",
              "cbits: 4/══════════════════════════════════════════════════════════════════════»\n",
              "                                                                               »\n",
              "«                        \n",
              "«    v_0: ───────────────\n",
              "«                        \n",
              "«    v_1: ───────────────\n",
              "«                        \n",
              "«    v_2: ───────■───────\n",
              "«                │       \n",
              "«    v_3: ──■────┼────■──\n",
              "«           │    │    │  \n",
              "«    c_0: ──┼────┼────┼──\n",
              "«           │    │    │  \n",
              "«    c_1: ──┼────┼────┼──\n",
              "«         ┌─┴─┐  │    │  \n",
              "«    c_2: ┤ X ├──┼────┼──\n",
              "«         └───┘┌─┴─┐┌─┴─┐\n",
              "«    c_3: ─────┤ X ├┤ X ├\n",
              "«              └───┘└───┘\n",
              "«    out: ───────────────\n",
              "«                        \n",
              "«cbits: 4/═══════════════\n",
              "«                        "
            ],
            "text/html": [
              "<pre style=\"word-wrap: normal;white-space: pre;background: #fff0;line-height: 1.1;font-family: &quot;Courier New&quot;,Courier,monospace\">                                                                               »\n",
              "    v_0: ──■─────────■──────────────────────────────────■─────────■────────────»\n",
              "           │         │                                  │         │            »\n",
              "    v_1: ──┼────■────┼─────────■────────────────────────┼────■────┼─────────■──»\n",
              "           │    │    │         │                        │    │    │         │  »\n",
              "    v_2: ──┼────┼────┼────■────┼─────────■──────────────┼────┼────┼────■────┼──»\n",
              "           │    │    │    │    │         │              │    │    │    │    │  »\n",
              "    v_3: ──┼────┼────┼────┼────┼────■────┼────■─────────┼────┼────┼────┼────┼──»\n",
              "         ┌─┴─┐┌─┴─┐  │    │    │    │    │    │       ┌─┴─┐┌─┴─┐  │    │    │  »\n",
              "    c_0: ┤ X ├┤ X ├──┼────┼────┼────┼────┼────┼────■──┤ X ├┤ X ├──┼────┼────┼──»\n",
              "         └───┘└───┘┌─┴─┐┌─┴─┐  │    │    │    │    │  └───┘└───┘┌─┴─┐┌─┴─┐  │  »\n",
              "    c_1: ──────────┤ X ├┤ X ├──┼────┼────┼────┼────■────────────┤ X ├┤ X ├──┼──»\n",
              "                   └───┘└───┘┌─┴─┐┌─┴─┐  │    │    │            └───┘└───┘┌─┴─┐»\n",
              "    c_2: ────────────────────┤ X ├┤ X ├──┼────┼────■──────────────────────┤ X ├»\n",
              "                             └───┘└───┘┌─┴─┐┌─┴─┐  │                      └───┘»\n",
              "    c_3: ──────────────────────────────┤ X ├┤ X ├──■───────────────────────────»\n",
              "                                       └───┘└───┘┌─┴─┐                         »\n",
              "    out: ────────────────────────────────────────┤ X ├─────────────────────────»\n",
              "                                                 └───┘                         »\n",
              "cbits: 4/══════════════════════════════════════════════════════════════════════»\n",
              "                                                                               »\n",
              "«                        \n",
              "«    v_0: ───────────────\n",
              "«                        \n",
              "«    v_1: ───────────────\n",
              "«                        \n",
              "«    v_2: ───────■───────\n",
              "«                │       \n",
              "«    v_3: ──■────┼────■──\n",
              "«           │    │    │  \n",
              "«    c_0: ──┼────┼────┼──\n",
              "«           │    │    │  \n",
              "«    c_1: ──┼────┼────┼──\n",
              "«         ┌─┴─┐  │    │  \n",
              "«    c_2: ┤ X ├──┼────┼──\n",
              "«         └───┘┌─┴─┐┌─┴─┐\n",
              "«    c_3: ─────┤ X ├┤ X ├\n",
              "«              └───┘└───┘\n",
              "«    out: ───────────────\n",
              "«                        \n",
              "«cbits: 4/═══════════════\n",
              "«                        </pre>"
            ]
          },
          "metadata": {},
          "execution_count": 23
        }
      ]
    },
    {
      "cell_type": "code",
      "source": [
        "var_qubits = QuantumRegister(4, name='v')\n",
        "clause_qubits = QuantumRegister(4, name='c')\n",
        "output_qubit = QuantumRegister(1, name='out')\n",
        "cbits = ClassicalRegister(4, name='cbits')\n",
        "qc = QuantumCircuit(var_qubits, clause_qubits, output_qubit, cbits)\n",
        "\n",
        "# Initialize 'out0' in state |->\n",
        "qc.initialize([1, -1]/np.sqrt(2), output_qubit)\n",
        "\n",
        "# Initialize qubits in state |s>\n",
        "qc.h(var_qubits)\n",
        "qc.barrier()  # for visual separation\n",
        "\n",
        "## First Iteration\n",
        "# Apply our oracle\n",
        "sudoku_oracle(qc, clause_list, clause_qubits)\n",
        "qc.barrier()  # for visual separation\n",
        "# Apply our diffuser\n",
        "qc.append(diffuser(4), [0,1,2,3])\n",
        "\n",
        "## Second Iteration\n",
        "sudoku_oracle(qc, clause_list, clause_qubits)\n",
        "qc.barrier()  # for visual separation\n",
        "# Apply our diffuser\n",
        "qc.append(diffuser(4), [0,1,2,3])\n",
        "\n",
        "# Measure the variable qubits\n",
        "qc.measure(var_qubits, cbits)\n",
        "\n",
        "qc.draw(fold=-1)"
      ],
      "metadata": {
        "id": "-fBwxGwif_J_",
        "colab": {
          "base_uri": "https://localhost:8080/",
          "height": 360
        },
        "outputId": "106ad51f-f7df-4b89-e68b-7aed8e791efb"
      },
      "execution_count": 24,
      "outputs": [
        {
          "output_type": "execute_result",
          "data": {
            "text/plain": [
              "                      ┌───┐               ░                                                                                       ░ ┌────────┐                                                                                      ░ ┌────────┐┌─┐         \n",
              "    v_0: ─────────────┤ H ├───────────────░───■─────────■──────────────────────────────────■─────────■────────────────────────────░─┤0       ├──■─────────■──────────────────────────────────■─────────■────────────────────────────░─┤0       ├┤M├─────────\n",
              "                      ├───┤               ░   │         │                                  │         │                            ░ │        │  │         │                                  │         │                            ░ │        │└╥┘┌─┐      \n",
              "    v_1: ─────────────┤ H ├───────────────░───┼────■────┼─────────■────────────────────────┼────■────┼─────────■──────────────────░─┤1       ├──┼────■────┼─────────■────────────────────────┼────■────┼─────────■──────────────────░─┤1       ├─╫─┤M├──────\n",
              "                      ├───┤               ░   │    │    │         │                        │    │    │         │                  ░ │  U$_s$ │  │    │    │         │                        │    │    │         │                  ░ │  U$_s$ │ ║ └╥┘┌─┐   \n",
              "    v_2: ─────────────┤ H ├───────────────░───┼────┼────┼────■────┼─────────■──────────────┼────┼────┼────■────┼─────────■────────░─┤2       ├──┼────┼────┼────■────┼─────────■──────────────┼────┼────┼────■────┼─────────■────────░─┤2       ├─╫──╫─┤M├───\n",
              "                      ├───┤               ░   │    │    │    │    │         │              │    │    │    │    │         │        ░ │        │  │    │    │    │    │         │              │    │    │    │    │         │        ░ │        │ ║  ║ └╥┘┌─┐\n",
              "    v_3: ─────────────┤ H ├───────────────░───┼────┼────┼────┼────┼────■────┼────■─────────┼────┼────┼────┼────┼────■────┼────■───░─┤3       ├──┼────┼────┼────┼────┼────■────┼────■─────────┼────┼────┼────┼────┼────■────┼────■───░─┤3       ├─╫──╫──╫─┤M├\n",
              "                      └───┘               ░ ┌─┴─┐┌─┴─┐  │    │    │    │    │    │       ┌─┴─┐┌─┴─┐  │    │    │    │    │    │   ░ └────────┘┌─┴─┐┌─┴─┐  │    │    │    │    │    │       ┌─┴─┐┌─┴─┐  │    │    │    │    │    │   ░ └────────┘ ║  ║  ║ └╥┘\n",
              "    c_0: ─────────────────────────────────░─┤ X ├┤ X ├──┼────┼────┼────┼────┼────┼────■──┤ X ├┤ X ├──┼────┼────┼────┼────┼────┼───░───────────┤ X ├┤ X ├──┼────┼────┼────┼────┼────┼────■──┤ X ├┤ X ├──┼────┼────┼────┼────┼────┼───░────────────╫──╫──╫──╫─\n",
              "                                          ░ └───┘└───┘┌─┴─┐┌─┴─┐  │    │    │    │    │  └───┘└───┘┌─┴─┐┌─┴─┐  │    │    │    │   ░           └───┘└───┘┌─┴─┐┌─┴─┐  │    │    │    │    │  └───┘└───┘┌─┴─┐┌─┴─┐  │    │    │    │   ░            ║  ║  ║  ║ \n",
              "    c_1: ─────────────────────────────────░───────────┤ X ├┤ X ├──┼────┼────┼────┼────■────────────┤ X ├┤ X ├──┼────┼────┼────┼───░─────────────────────┤ X ├┤ X ├──┼────┼────┼────┼────■────────────┤ X ├┤ X ├──┼────┼────┼────┼───░────────────╫──╫──╫──╫─\n",
              "                                          ░           └───┘└───┘┌─┴─┐┌─┴─┐  │    │    │            └───┘└───┘┌─┴─┐┌─┴─┐  │    │   ░                     └───┘└───┘┌─┴─┐┌─┴─┐  │    │    │            └───┘└───┘┌─┴─┐┌─┴─┐  │    │   ░            ║  ║  ║  ║ \n",
              "    c_2: ─────────────────────────────────░─────────────────────┤ X ├┤ X ├──┼────┼────■──────────────────────┤ X ├┤ X ├──┼────┼───░───────────────────────────────┤ X ├┤ X ├──┼────┼────■──────────────────────┤ X ├┤ X ├──┼────┼───░────────────╫──╫──╫──╫─\n",
              "                                          ░                     └───┘└───┘┌─┴─┐┌─┴─┐  │                      └───┘└───┘┌─┴─┐┌─┴─┐ ░                               └───┘└───┘┌─┴─┐┌─┴─┐  │                      └───┘└───┘┌─┴─┐┌─┴─┐ ░            ║  ║  ║  ║ \n",
              "    c_3: ─────────────────────────────────░───────────────────────────────┤ X ├┤ X ├──■────────────────────────────────┤ X ├┤ X ├─░─────────────────────────────────────────┤ X ├┤ X ├──■────────────────────────────────┤ X ├┤ X ├─░────────────╫──╫──╫──╫─\n",
              "         ┌──────────────────────────────┐ ░                               └───┘└───┘┌─┴─┐                              └───┘└───┘ ░                                         └───┘└───┘┌─┴─┐                              └───┘└───┘ ░            ║  ║  ║  ║ \n",
              "    out: ┤ Initialize(0.70711,-0.70711) ├─░─────────────────────────────────────────┤ X ├─────────────────────────────────────────░───────────────────────────────────────────────────┤ X ├─────────────────────────────────────────░────────────╫──╫──╫──╫─\n",
              "         └──────────────────────────────┘ ░                                         └───┘                                         ░                                                   └───┘                                         ░            ║  ║  ║  ║ \n",
              "cbits: 4/════════════════════════════════════════════════════════════════════════════════════════════════════════════════════════════════════════════════════════════════════════════════════════════════════════════════════════════════════════╩══╩══╩══╩═\n",
              "                                                                                                                                                                                                                                                 0  1  2  3 "
            ],
            "text/html": [
              "<pre style=\"word-wrap: normal;white-space: pre;background: #fff0;line-height: 1.1;font-family: &quot;Courier New&quot;,Courier,monospace\">                      ┌───┐               ░                                                                                       ░ ┌────────┐                                                                                      ░ ┌────────┐┌─┐         \n",
              "    v_0: ─────────────┤ H ├───────────────░───■─────────■──────────────────────────────────■─────────■────────────────────────────░─┤0       ├──■─────────■──────────────────────────────────■─────────■────────────────────────────░─┤0       ├┤M├─────────\n",
              "                      ├───┤               ░   │         │                                  │         │                            ░ │        │  │         │                                  │         │                            ░ │        │└╥┘┌─┐      \n",
              "    v_1: ─────────────┤ H ├───────────────░───┼────■────┼─────────■────────────────────────┼────■────┼─────────■──────────────────░─┤1       ├──┼────■────┼─────────■────────────────────────┼────■────┼─────────■──────────────────░─┤1       ├─╫─┤M├──────\n",
              "                      ├───┤               ░   │    │    │         │                        │    │    │         │                  ░ │  U$_s$ │  │    │    │         │                        │    │    │         │                  ░ │  U$_s$ │ ║ └╥┘┌─┐   \n",
              "    v_2: ─────────────┤ H ├───────────────░───┼────┼────┼────■────┼─────────■──────────────┼────┼────┼────■────┼─────────■────────░─┤2       ├──┼────┼────┼────■────┼─────────■──────────────┼────┼────┼────■────┼─────────■────────░─┤2       ├─╫──╫─┤M├───\n",
              "                      ├───┤               ░   │    │    │    │    │         │              │    │    │    │    │         │        ░ │        │  │    │    │    │    │         │              │    │    │    │    │         │        ░ │        │ ║  ║ └╥┘┌─┐\n",
              "    v_3: ─────────────┤ H ├───────────────░───┼────┼────┼────┼────┼────■────┼────■─────────┼────┼────┼────┼────┼────■────┼────■───░─┤3       ├──┼────┼────┼────┼────┼────■────┼────■─────────┼────┼────┼────┼────┼────■────┼────■───░─┤3       ├─╫──╫──╫─┤M├\n",
              "                      └───┘               ░ ┌─┴─┐┌─┴─┐  │    │    │    │    │    │       ┌─┴─┐┌─┴─┐  │    │    │    │    │    │   ░ └────────┘┌─┴─┐┌─┴─┐  │    │    │    │    │    │       ┌─┴─┐┌─┴─┐  │    │    │    │    │    │   ░ └────────┘ ║  ║  ║ └╥┘\n",
              "    c_0: ─────────────────────────────────░─┤ X ├┤ X ├──┼────┼────┼────┼────┼────┼────■──┤ X ├┤ X ├──┼────┼────┼────┼────┼────┼───░───────────┤ X ├┤ X ├──┼────┼────┼────┼────┼────┼────■──┤ X ├┤ X ├──┼────┼────┼────┼────┼────┼───░────────────╫──╫──╫──╫─\n",
              "                                          ░ └───┘└───┘┌─┴─┐┌─┴─┐  │    │    │    │    │  └───┘└───┘┌─┴─┐┌─┴─┐  │    │    │    │   ░           └───┘└───┘┌─┴─┐┌─┴─┐  │    │    │    │    │  └───┘└───┘┌─┴─┐┌─┴─┐  │    │    │    │   ░            ║  ║  ║  ║ \n",
              "    c_1: ─────────────────────────────────░───────────┤ X ├┤ X ├──┼────┼────┼────┼────■────────────┤ X ├┤ X ├──┼────┼────┼────┼───░─────────────────────┤ X ├┤ X ├──┼────┼────┼────┼────■────────────┤ X ├┤ X ├──┼────┼────┼────┼───░────────────╫──╫──╫──╫─\n",
              "                                          ░           └───┘└───┘┌─┴─┐┌─┴─┐  │    │    │            └───┘└───┘┌─┴─┐┌─┴─┐  │    │   ░                     └───┘└───┘┌─┴─┐┌─┴─┐  │    │    │            └───┘└───┘┌─┴─┐┌─┴─┐  │    │   ░            ║  ║  ║  ║ \n",
              "    c_2: ─────────────────────────────────░─────────────────────┤ X ├┤ X ├──┼────┼────■──────────────────────┤ X ├┤ X ├──┼────┼───░───────────────────────────────┤ X ├┤ X ├──┼────┼────■──────────────────────┤ X ├┤ X ├──┼────┼───░────────────╫──╫──╫──╫─\n",
              "                                          ░                     └───┘└───┘┌─┴─┐┌─┴─┐  │                      └───┘└───┘┌─┴─┐┌─┴─┐ ░                               └───┘└───┘┌─┴─┐┌─┴─┐  │                      └───┘└───┘┌─┴─┐┌─┴─┐ ░            ║  ║  ║  ║ \n",
              "    c_3: ─────────────────────────────────░───────────────────────────────┤ X ├┤ X ├──■────────────────────────────────┤ X ├┤ X ├─░─────────────────────────────────────────┤ X ├┤ X ├──■────────────────────────────────┤ X ├┤ X ├─░────────────╫──╫──╫──╫─\n",
              "         ┌──────────────────────────────┐ ░                               └───┘└───┘┌─┴─┐                              └───┘└───┘ ░                                         └───┘└───┘┌─┴─┐                              └───┘└───┘ ░            ║  ║  ║  ║ \n",
              "    out: ┤ Initialize(0.70711,-0.70711) ├─░─────────────────────────────────────────┤ X ├─────────────────────────────────────────░───────────────────────────────────────────────────┤ X ├─────────────────────────────────────────░────────────╫──╫──╫──╫─\n",
              "         └──────────────────────────────┘ ░                                         └───┘                                         ░                                                   └───┘                                         ░            ║  ║  ║  ║ \n",
              "cbits: 4/════════════════════════════════════════════════════════════════════════════════════════════════════════════════════════════════════════════════════════════════════════════════════════════════════════════════════════════════════════╩══╩══╩══╩═\n",
              "                                                                                                                                                                                                                                                 0  1  2  3 </pre>"
            ]
          },
          "metadata": {},
          "execution_count": 24
        }
      ]
    },
    {
      "cell_type": "code",
      "source": [
        "# Simulate and plot results\n",
        "qasm_simulator = Aer.get_backend('qasm_simulator')\n",
        "transpiled_qc = transpile(qc, qasm_simulator)\n",
        "result = qasm_sim.run(transpiled_qc).result()\n",
        "plot_histogram(result.get_counts())"
      ],
      "metadata": {
        "id": "jPNFXtFDgC6f",
        "colab": {
          "base_uri": "https://localhost:8080/",
          "height": 487
        },
        "outputId": "b1108d7a-2efa-43a2-ba1f-6807953ad13b"
      },
      "execution_count": 25,
      "outputs": [
        {
          "output_type": "execute_result",
          "data": {
            "text/plain": [
              "<Figure size 640x480 with 1 Axes>"
            ],
            "image/png": "[encoded data removed]"
          },
          "metadata": {},
          "execution_count": 25
        }
      ]
    },
    {
      "cell_type": "code",
      "source": [
        "#Edges list\n",
        "edges =[(0, 1), (0, 2), (1, 2), (2, 3)]\n",
        "#Number of nodes\n",
        "n_nodes = 4"
      ],
      "metadata": {
        "id": "FKv8uUKJgD0P"
      },
      "execution_count": 26,
      "outputs": []
    },
    {
      "cell_type": "code",
      "source": [
        "#We used the W state implementation from W state in reference 6\n",
        "def control_rotation (qcir,cQbit,tQbit,theta):\n",
        "    \"\"\" Create an intermediate controlled rotation using only unitary gate and controlled-NOT\n",
        "\n",
        "    Args:\n",
        "    qcir: QuantumCircuit instance to apply the controlled rotation to.\n",
        "    cQbit: control qubit.\n",
        "    tQbit: target qubit.\n",
        "    theta: rotation angle.\n",
        "\n",
        "    Returns:\n",
        "    A modified version of the QuantumCircuit instance with control rotation applied.\n",
        "\n",
        "    \"\"\"\n",
        "    theta_dash = math.asin(math.cos(math.radians(theta/2)))\n",
        "    qcir.u(theta_dash,0,0,tQbit)\n",
        "    qcir.cx(cQbit,tQbit)\n",
        "    qcir.u(-theta_dash,0,0,tQbit)\n",
        "    return qcir\n",
        "\n",
        "\n",
        "def wn (qcir,qbits):\n",
        "    \"\"\" Create the W-state using the control-rotation function.\n",
        "\n",
        "    Args:\n",
        "    qcir: QuantumCircuit instance used to construct the W-state.\n",
        "    qbits: the qubits used to construct the W-state.\n",
        "\n",
        "    Returns:\n",
        "    A modified version of the QuantumCircuit instance with the W-state construction gates.\n",
        "\n",
        "    \"\"\"\n",
        "    for i in range(len(qbits)):\n",
        "        if i == 0:\n",
        "            qcir.x(qbits[0])\n",
        "            qcir.barrier()\n",
        "        else:\n",
        "            p = 1/(len(qbits)-(i-1))\n",
        "            theta = math.degrees(math.acos(math.sqrt(p)))\n",
        "            theta = 2* theta\n",
        "            qcir = control_rotation(qcir,qbits[i-1],qbits[i],theta)\n",
        "            qcir.cx(qbits[i],qbits[i-1])\n",
        "            qcir.barrier()\n",
        "    return qcir,qbits\n",
        "\n",
        "sub_qbits = QuantumRegister(n_nodes)\n",
        "sub_cir = QuantumCircuit(sub_qbits, name=\"state_prep\")\n",
        "sub_cir, sub_qbits = wn(sub_cir, sub_qbits)\n",
        "sub_cir.x(sub_qbits)\n",
        "stat_prep = sub_cir.to_instruction()\n",
        "inv_stat_prep = sub_cir.inverse().to_instruction()"
      ],
      "metadata": {
        "id": "O9pCd8SLgTHu"
      },
      "execution_count": 27,
      "outputs": []
    },
    {
      "cell_type": "code",
      "source": [
        "def edge_counter(qc,qubits,anc,flag_qubit,k):\n",
        "    bin_k = bin(k)[2:][::-1]\n",
        "    l = []\n",
        "    for i in range(len(bin_k)):\n",
        "        if int(bin_k[i]) == 1:\n",
        "            l.append(qubits[i])\n",
        "    qc.mcx(l,flag_qubit,[anc])\n",
        "\n",
        "\n",
        "def oracle(n_nodes, edges, qc, nodes_qubits, edge_anc, ancilla, neg_base):\n",
        "    k = 3 #k is the number of edges, in case of a triangle, it's 3\n",
        "    #1- edge counter\n",
        "    #forward circuit\n",
        "    qc.barrier()\n",
        "    qc.ccx(nodes_qubits[edges[0][0]],nodes_qubits[edges[0][1]],edge_anc[0])\n",
        "    for i in range(1,len(edges)):\n",
        "        qc.mcx([nodes_qubits[edges[i][0]],nodes_qubits[edges[i][1]],edge_anc[0]], edge_anc[1], [ancilla[0]])\n",
        "        qc.ccx(nodes_qubits[edges[i][0]],nodes_qubits[edges[i][1]],edge_anc[0])\n",
        "    #----------------------------------------------------------------------------------------------------------\n",
        "     #Edges check Qubit\n",
        "    edg_k = int((k/2)*(k-1))\n",
        "    edge_counter(qc,edge_anc,ancilla[0],neg_base[0],edg_k)\n",
        "    #----------------------------------------------------------------------------------------------------------\n",
        "\n",
        "    #4- Reverse edge count\n",
        "    for i in range(len(edges)-1,0,-1):\n",
        "        qc.ccx(nodes_qubits[edges[i][0]],nodes_qubits[edges[i][1]],edge_anc[0])\n",
        "        qc.mcx([nodes_qubits[edges[i][0]],nodes_qubits[edges[i][1]],edge_anc[0]], edge_anc[1], [ancilla[0]])\n",
        "    qc.ccx(nodes_qubits[edges[0][0]],nodes_qubits[edges[0][1]],edge_anc[0])\n",
        "    qc.barrier()"
      ],
      "metadata": {
        "id": "oFZLvE6vgZ9_"
      },
      "execution_count": 28,
      "outputs": []
    },
    {
      "cell_type": "code",
      "source": [
        "def cnz(qc, num_control, node, anc):\n",
        "    \"\"\"Construct a multi-controlled Z gate\n",
        "\n",
        "    Args:\n",
        "    num_control :  number of control qubits of cnz gate\n",
        "    node :             node qubits\n",
        "    anc :               ancillaly qubits\n",
        "    \"\"\"\n",
        "    if num_control>2:\n",
        "        qc.ccx(node[0], node[1], anc[0])\n",
        "        for i in range(num_control-2):\n",
        "            qc.ccx(node[i+2], anc[i], anc[i+1])\n",
        "        qc.cz(anc[num_control-2], node[num_control])\n",
        "        for i in range(num_control-2)[::-1]:\n",
        "            qc.ccx(node[i+2], anc[i], anc[i+1])\n",
        "        qc.ccx(node[0], node[1], anc[0])\n",
        "    if num_control==2:\n",
        "        qc.h(node[2])\n",
        "        qc.ccx(node[0], node[1], node[2])\n",
        "        qc.h(node[2])\n",
        "    if num_control==1:\n",
        "        qc.cz(node[0], node[1])"
      ],
      "metadata": {
        "id": "X8g_Aow6gcJ3"
      },
      "execution_count": 29,
      "outputs": []
    },
    {
      "cell_type": "code",
      "source": [
        "def grover_diff(qc, nodes_qubits,edge_anc,ancilla,stat_prep,inv_stat_prep):\n",
        "    qc.append(inv_stat_prep,qargs=nodes_qubits)\n",
        "    qc.x(nodes_qubits)\n",
        "    #====================================================\n",
        "        #3 control qubits Z gate\n",
        "    cnz(qc,len(nodes_qubits)-1,nodes_qubits[::-1],ancilla)\n",
        "    #====================================================\n",
        "    qc.x(nodes_qubits)\n",
        "    qc.append(stat_prep,qargs=nodes_qubits)"
      ],
      "metadata": {
        "id": "6CLi_2f_gfeH"
      },
      "execution_count": 30,
      "outputs": []
    },
    {
      "cell_type": "code",
      "source": [
        "# Grover algo function\n",
        "def grover(n_nodes,stat_prep,inv_stat_prep):\n",
        "    #N = 2**n_nodes  # for optimal iterations count if the state prep is done using only H gates.\n",
        "    N = math.comb(n_nodes, 3) #Since we are using W-state to perform initial preparation.\n",
        "    nodes_qubits = QuantumRegister(n_nodes, name='nodes')\n",
        "    edge_anc = QuantumRegister(2, name='edge_anc')\n",
        "    ancilla = QuantumRegister(n_nodes-2, name = 'cccx_diff_anc')\n",
        "    neg_base = QuantumRegister(1, name='check_qubits')\n",
        "    class_bits = ClassicalRegister(n_nodes, name='class_reg')\n",
        "    tri_flag = ClassicalRegister(3, name='tri_flag')\n",
        "    qc = QuantumCircuit(nodes_qubits, edge_anc, ancilla, neg_base, class_bits, tri_flag)\n",
        "    # Initialize qunatum flag qubits in |-> state\n",
        "    qc.x(neg_base[0])\n",
        "    qc.h(neg_base[0])\n",
        "    # Initializing i/p qubits in superposition\n",
        "    qc.append(stat_prep,qargs=nodes_qubits)\n",
        "    qc.barrier()\n",
        "    # Calculate iteration count\n",
        "    iterations = math.floor(math.pi/4*math.sqrt(N))\n",
        "    # Calculate iteration count\n",
        "    for i in np.arange(iterations):\n",
        "        qc.barrier()\n",
        "        oracle(n_nodes, edges, qc, nodes_qubits, edge_anc,  ancilla, neg_base)\n",
        "        qc.barrier()\n",
        "        grover_diff(qc, nodes_qubits,edge_anc,ancilla,stat_prep,inv_stat_prep)\n",
        "    qc.measure(nodes_qubits,class_bits)\n",
        "    return qc"
      ],
      "metadata": {
        "id": "FEn7MIjEgiUX"
      },
      "execution_count": 31,
      "outputs": []
    },
    {
      "cell_type": "code",
      "source": [
        "qc = grover(n_nodes,stat_prep,inv_stat_prep)\n",
        "qc.draw()"
      ],
      "metadata": {
        "id": "tAJZExWgglD_",
        "colab": {
          "base_uri": "https://localhost:8080/",
          "height": 1000
        },
        "outputId": "7e40dbc0-12d7-4501-a357-81f82c640cde"
      },
      "execution_count": 32,
      "outputs": [
        {
          "output_type": "execute_result",
          "data": {
            "text/plain": [
              "                 ┌─────────────┐      ░  ░  ░                               »\n",
              "        nodes_0: ┤0            ├──────░──░──░───■────■────■─────────────────»\n",
              "                 │             │      ░  ░  ░   │    │    │                 »\n",
              "        nodes_1: ┤1            ├──────░──░──░───■────┼────┼────■────■───────»\n",
              "                 │  state_prep │      ░  ░  ░   │    │    │    │    │       »\n",
              "        nodes_2: ┤2            ├──────░──░──░───┼────■────■────■────■────■──»\n",
              "                 │             │      ░  ░  ░   │    │    │    │    │    │  »\n",
              "        nodes_3: ┤3            ├──────░──░──░───┼────┼────┼────┼────┼────■──»\n",
              "                 └─────────────┘      ░  ░  ░ ┌─┴─┐  │  ┌─┴─┐  │  ┌─┴─┐  │  »\n",
              "     edge_anc_0: ─────────────────────░──░──░─┤ X ├──■──┤ X ├──■──┤ X ├──■──»\n",
              "                                      ░  ░  ░ └───┘┌─┴─┐└───┘┌─┴─┐└───┘┌─┴─┐»\n",
              "     edge_anc_1: ─────────────────────░──░──░──────┤ X ├─────┤ X ├─────┤ X ├»\n",
              "                                      ░  ░  ░      └───┘     └───┘     └───┘»\n",
              "cccx_diff_anc_0: ─────────────────────░──░──░───────────────────────────────»\n",
              "                                      ░  ░  ░                               »\n",
              "cccx_diff_anc_1: ─────────────────────░──░──░───────────────────────────────»\n",
              "                      ┌───┐     ┌───┐ ░  ░  ░                               »\n",
              "   check_qubits: ─────┤ X ├─────┤ H ├─░──░──░───────────────────────────────»\n",
              "                      └───┘     └───┘ ░  ░  ░                               »\n",
              "    class_reg: 4/═══════════════════════════════════════════════════════════»\n",
              "                                                                            »\n",
              "     tri_flag: 3/═══════════════════════════════════════════════════════════»\n",
              "                                                                            »\n",
              "«                                                               ░  ░ »\n",
              "«        nodes_0: ────────────────────────────────■────■────■───░──░─»\n",
              "«                                                 │    │    │   ░  ░ »\n",
              "«        nodes_1: ──────────────────────■────■────┼────┼────■───░──░─»\n",
              "«                                       │    │    │    │    │   ░  ░ »\n",
              "«        nodes_2: ──■─────────■────■────■────■────■────■────┼───░──░─»\n",
              "«                   │         │    │    │    │    │    │    │   ░  ░ »\n",
              "«        nodes_3: ──■─────────■────■────┼────┼────┼────┼────┼───░──░─»\n",
              "«                 ┌─┴─┐     ┌─┴─┐  │  ┌─┴─┐  │  ┌─┴─┐  │  ┌─┴─┐ ░  ░ »\n",
              "«     edge_anc_0: ┤ X ├──■──┤ X ├──■──┤ X ├──■──┤ X ├──■──┤ X ├─░──░─»\n",
              "«                 └───┘  │  └───┘┌─┴─┐└───┘┌─┴─┐└───┘┌─┴─┐└───┘ ░  ░ »\n",
              "«     edge_anc_1: ───────■───────┤ X ├─────┤ X ├─────┤ X ├──────░──░─»\n",
              "«                        │       └───┘     └───┘     └───┘      ░  ░ »\n",
              "«cccx_diff_anc_0: ───────┼──────────────────────────────────────░──░─»\n",
              "«                        │                                      ░  ░ »\n",
              "«cccx_diff_anc_1: ───────┼──────────────────────────────────────░──░─»\n",
              "«                      ┌─┴─┐                                    ░  ░ »\n",
              "«   check_qubits: ─────┤ X ├────────────────────────────────────░──░─»\n",
              "«                      └───┘                                    ░  ░ »\n",
              "«    class_reg: 4/═══════════════════════════════════════════════════»\n",
              "«                                                                    »\n",
              "«     tri_flag: 3/═══════════════════════════════════════════════════»\n",
              "«                                                                    »\n",
              "«                 ┌────────────────┐┌───┐             ┌───┐          »\n",
              "«        nodes_0: ┤0               ├┤ X ├───────────■─┤ X ├──────────»\n",
              "«                 │                │├───┤           │ └───┘┌───┐     »\n",
              "«        nodes_1: ┤1               ├┤ X ├───────■───┼───■──┤ X ├─────»\n",
              "«                 │  state_prep_dg │├───┤       │   │   │  └───┘┌───┐»\n",
              "«        nodes_2: ┤2               ├┤ X ├──■────┼───┼───┼────■──┤ X ├»\n",
              "«                 │                │├───┤  │    │   │   │    │  ├───┤»\n",
              "«        nodes_3: ┤3               ├┤ X ├──■────┼───┼───┼────■──┤ X ├»\n",
              "«                 └────────────────┘└───┘  │    │   │   │    │  └───┘»\n",
              "«     edge_anc_0: ─────────────────────────┼────┼───┼───┼────┼───────»\n",
              "«                                          │    │   │   │    │       »\n",
              "«     edge_anc_1: ─────────────────────────┼────┼───┼───┼────┼───────»\n",
              "«                                        ┌─┴─┐  │   │   │  ┌─┴─┐     »\n",
              "«cccx_diff_anc_0: ───────────────────────┤ X ├──■───┼───■──┤ X ├─────»\n",
              "«                                        └───┘┌─┴─┐ │ ┌─┴─┐└───┘     »\n",
              "«cccx_diff_anc_1: ────────────────────────────┤ X ├─■─┤ X ├──────────»\n",
              "«                                             └───┘   └───┘          »\n",
              "«   check_qubits: ───────────────────────────────────────────────────»\n",
              "«                                                                    »\n",
              "«    class_reg: 4/═══════════════════════════════════════════════════»\n",
              "«                                                                    »\n",
              "«     tri_flag: 3/═══════════════════════════════════════════════════»\n",
              "«                                                                    »\n",
              "«                 ┌─────────────┐┌─┐         \n",
              "«        nodes_0: ┤0            ├┤M├─────────\n",
              "«                 │             │└╥┘┌─┐      \n",
              "«        nodes_1: ┤1            ├─╫─┤M├──────\n",
              "«                 │  state_prep │ ║ └╥┘┌─┐   \n",
              "«        nodes_2: ┤2            ├─╫──╫─┤M├───\n",
              "«                 │             │ ║  ║ └╥┘┌─┐\n",
              "«        nodes_3: ┤3            ├─╫──╫──╫─┤M├\n",
              "«                 └─────────────┘ ║  ║  ║ └╥┘\n",
              "«     edge_anc_0: ────────────────╫──╫──╫──╫─\n",
              "«                                 ║  ║  ║  ║ \n",
              "«     edge_anc_1: ────────────────╫──╫──╫──╫─\n",
              "«                                 ║  ║  ║  ║ \n",
              "«cccx_diff_anc_0: ────────────────╫──╫──╫──╫─\n",
              "«                                 ║  ║  ║  ║ \n",
              "«cccx_diff_anc_1: ────────────────╫──╫──╫──╫─\n",
              "«                                 ║  ║  ║  ║ \n",
              "«   check_qubits: ────────────────╫──╫──╫──╫─\n",
              "«                                 ║  ║  ║  ║ \n",
              "«    class_reg: 4/════════════════╩══╩══╩══╩═\n",
              "«                                 0  1  2  3 \n",
              "«     tri_flag: 3/═══════════════════════════\n",
              "«                                            "
            ],
            "text/html": [
              "<pre style=\"word-wrap: normal;white-space: pre;background: #fff0;line-height: 1.1;font-family: &quot;Courier New&quot;,Courier,monospace\">                 ┌─────────────┐      ░  ░  ░                               »\n",
              "        nodes_0: ┤0            ├──────░──░──░───■────■────■─────────────────»\n",
              "                 │             │      ░  ░  ░   │    │    │                 »\n",
              "        nodes_1: ┤1            ├──────░──░──░───■────┼────┼────■────■───────»\n",
              "                 │  state_prep │      ░  ░  ░   │    │    │    │    │       »\n",
              "        nodes_2: ┤2            ├──────░──░──░───┼────■────■────■────■────■──»\n",
              "                 │             │      ░  ░  ░   │    │    │    │    │    │  »\n",
              "        nodes_3: ┤3            ├──────░──░──░───┼────┼────┼────┼────┼────■──»\n",
              "                 └─────────────┘      ░  ░  ░ ┌─┴─┐  │  ┌─┴─┐  │  ┌─┴─┐  │  »\n",
              "     edge_anc_0: ─────────────────────░──░──░─┤ X ├──■──┤ X ├──■──┤ X ├──■──»\n",
              "                                      ░  ░  ░ └───┘┌─┴─┐└───┘┌─┴─┐└───┘┌─┴─┐»\n",
              "     edge_anc_1: ─────────────────────░──░──░──────┤ X ├─────┤ X ├─────┤ X ├»\n",
              "                                      ░  ░  ░      └───┘     └───┘     └───┘»\n",
              "cccx_diff_anc_0: ─────────────────────░──░──░───────────────────────────────»\n",
              "                                      ░  ░  ░                               »\n",
              "cccx_diff_anc_1: ─────────────────────░──░──░───────────────────────────────»\n",
              "                      ┌───┐     ┌───┐ ░  ░  ░                               »\n",
              "   check_qubits: ─────┤ X ├─────┤ H ├─░──░──░───────────────────────────────»\n",
              "                      └───┘     └───┘ ░  ░  ░                               »\n",
              "    class_reg: 4/═══════════════════════════════════════════════════════════»\n",
              "                                                                            »\n",
              "     tri_flag: 3/═══════════════════════════════════════════════════════════»\n",
              "                                                                            »\n",
              "«                                                               ░  ░ »\n",
              "«        nodes_0: ────────────────────────────────■────■────■───░──░─»\n",
              "«                                                 │    │    │   ░  ░ »\n",
              "«        nodes_1: ──────────────────────■────■────┼────┼────■───░──░─»\n",
              "«                                       │    │    │    │    │   ░  ░ »\n",
              "«        nodes_2: ──■─────────■────■────■────■────■────■────┼───░──░─»\n",
              "«                   │         │    │    │    │    │    │    │   ░  ░ »\n",
              "«        nodes_3: ──■─────────■────■────┼────┼────┼────┼────┼───░──░─»\n",
              "«                 ┌─┴─┐     ┌─┴─┐  │  ┌─┴─┐  │  ┌─┴─┐  │  ┌─┴─┐ ░  ░ »\n",
              "«     edge_anc_0: ┤ X ├──■──┤ X ├──■──┤ X ├──■──┤ X ├──■──┤ X ├─░──░─»\n",
              "«                 └───┘  │  └───┘┌─┴─┐└───┘┌─┴─┐└───┘┌─┴─┐└───┘ ░  ░ »\n",
              "«     edge_anc_1: ───────■───────┤ X ├─────┤ X ├─────┤ X ├──────░──░─»\n",
              "«                        │       └───┘     └───┘     └───┘      ░  ░ »\n",
              "«cccx_diff_anc_0: ───────┼──────────────────────────────────────░──░─»\n",
              "«                        │                                      ░  ░ »\n",
              "«cccx_diff_anc_1: ───────┼──────────────────────────────────────░──░─»\n",
              "«                      ┌─┴─┐                                    ░  ░ »\n",
              "«   check_qubits: ─────┤ X ├────────────────────────────────────░──░─»\n",
              "«                      └───┘                                    ░  ░ »\n",
              "«    class_reg: 4/═══════════════════════════════════════════════════»\n",
              "«                                                                    »\n",
              "«     tri_flag: 3/═══════════════════════════════════════════════════»\n",
              "«                                                                    »\n",
              "«                 ┌────────────────┐┌───┐             ┌───┐          »\n",
              "«        nodes_0: ┤0               ├┤ X ├───────────■─┤ X ├──────────»\n",
              "«                 │                │├───┤           │ └───┘┌───┐     »\n",
              "«        nodes_1: ┤1               ├┤ X ├───────■───┼───■──┤ X ├─────»\n",
              "«                 │  state_prep_dg │├───┤       │   │   │  └───┘┌───┐»\n",
              "«        nodes_2: ┤2               ├┤ X ├──■────┼───┼───┼────■──┤ X ├»\n",
              "«                 │                │├───┤  │    │   │   │    │  ├───┤»\n",
              "«        nodes_3: ┤3               ├┤ X ├──■────┼───┼───┼────■──┤ X ├»\n",
              "«                 └────────────────┘└───┘  │    │   │   │    │  └───┘»\n",
              "«     edge_anc_0: ─────────────────────────┼────┼───┼───┼────┼───────»\n",
              "«                                          │    │   │   │    │       »\n",
              "«     edge_anc_1: ─────────────────────────┼────┼───┼───┼────┼───────»\n",
              "«                                        ┌─┴─┐  │   │   │  ┌─┴─┐     »\n",
              "«cccx_diff_anc_0: ───────────────────────┤ X ├──■───┼───■──┤ X ├─────»\n",
              "«                                        └───┘┌─┴─┐ │ ┌─┴─┐└───┘     »\n",
              "«cccx_diff_anc_1: ────────────────────────────┤ X ├─■─┤ X ├──────────»\n",
              "«                                             └───┘   └───┘          »\n",
              "«   check_qubits: ───────────────────────────────────────────────────»\n",
              "«                                                                    »\n",
              "«    class_reg: 4/═══════════════════════════════════════════════════»\n",
              "«                                                                    »\n",
              "«     tri_flag: 3/═══════════════════════════════════════════════════»\n",
              "«                                                                    »\n",
              "«                 ┌─────────────┐┌─┐         \n",
              "«        nodes_0: ┤0            ├┤M├─────────\n",
              "«                 │             │└╥┘┌─┐      \n",
              "«        nodes_1: ┤1            ├─╫─┤M├──────\n",
              "«                 │  state_prep │ ║ └╥┘┌─┐   \n",
              "«        nodes_2: ┤2            ├─╫──╫─┤M├───\n",
              "«                 │             │ ║  ║ └╥┘┌─┐\n",
              "«        nodes_3: ┤3            ├─╫──╫──╫─┤M├\n",
              "«                 └─────────────┘ ║  ║  ║ └╥┘\n",
              "«     edge_anc_0: ────────────────╫──╫──╫──╫─\n",
              "«                                 ║  ║  ║  ║ \n",
              "«     edge_anc_1: ────────────────╫──╫──╫──╫─\n",
              "«                                 ║  ║  ║  ║ \n",
              "«cccx_diff_anc_0: ────────────────╫──╫──╫──╫─\n",
              "«                                 ║  ║  ║  ║ \n",
              "«cccx_diff_anc_1: ────────────────╫──╫──╫──╫─\n",
              "«                                 ║  ║  ║  ║ \n",
              "«   check_qubits: ────────────────╫──╫──╫──╫─\n",
              "«                                 ║  ║  ║  ║ \n",
              "«    class_reg: 4/════════════════╩══╩══╩══╩═\n",
              "«                                 0  1  2  3 \n",
              "«     tri_flag: 3/═══════════════════════════\n",
              "«                                            </pre>"
            ]
          },
          "metadata": {},
          "execution_count": 32
        }
      ]
    },
    {
      "cell_type": "code",
      "source": [
        "# Simulate and plot results\n",
        "qasm_simulator = Aer.get_backend('qasm_simulator')\n",
        "#transpiled_qc = transpile(qc, qasm_simulator)\n",
        "# Execute circuit and show results\n",
        "ex = transpile(qc, qasm_simulator)\n",
        "# Run the transpiled circuit using qasm_simulator\n",
        "job = qasm_simulator.run(ex)\n",
        "# Get results from the job\n",
        "res = job.result().get_counts(qc)\n",
        "plot_histogram(res)"
      ],
      "metadata": {
        "id": "krqRpE-FgnVf",
        "colab": {
          "base_uri": "https://localhost:8080/",
          "height": 487
        },
        "outputId": "7c510b2a-b543-40fa-b22e-5ab19f9c2160"
      },
      "execution_count": 33,
      "outputs": [
        {
          "output_type": "execute_result",
          "data": {
            "text/plain": [
              "<Figure size 640x480 with 1 Axes>"
            ],
            "image/png": "[encoded data removed]"
          },
          "metadata": {},
          "execution_count": 33
        }
      ]
    }
  ]
}
